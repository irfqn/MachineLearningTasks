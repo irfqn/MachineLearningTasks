{
  "cells": [
    {
      "cell_type": "markdown",
      "metadata": {
        "id": "view-in-github",
        "colab_type": "text"
      },
      "source": [
        "<a href=\"https://colab.research.google.com/github/irfqn/MachineLearningTasks/blob/main/UAS/Exercise_08_Pytorch_paper_replicating.ipynb\" target=\"_parent\"><img src=\"https://colab.research.google.com/assets/colab-badge.svg\" alt=\"Open In Colab\"/></a>"
      ]
    },
    {
      "cell_type": "markdown",
      "metadata": {
        "id": "aO_YaVVJBtV8"
      },
      "source": [
        "**Muhammad Irfan Al Rasyid - 1103200080**"
      ]
    },
    {
      "cell_type": "markdown",
      "metadata": {
        "id": "eny23k49BwNP"
      },
      "source": [
        "## **08. PyTorch Experiment Tracking Exercise Solutions**"
      ]
    },
    {
      "cell_type": "code",
      "execution_count": 2,
      "metadata": {
        "colab": {
          "base_uri": "https://localhost:8080/"
        },
        "id": "jc8YioyeER6O",
        "outputId": "d3325b21-f8c3-4873-dc17-e2bef06b1b0e"
      },
      "outputs": [
        {
          "output_type": "stream",
          "name": "stdout",
          "text": [
            "[INFO] torch/torchvision versions not as required, installing nightly versions.\n",
            "Looking in indexes: https://pypi.org/simple, https://download.pytorch.org/whl/nightly/cu113\n",
            "Requirement already satisfied: torch in /usr/local/lib/python3.10/dist-packages (2.1.0+cu121)\n",
            "Collecting torch\n",
            "  Downloading torch-2.1.2-cp310-cp310-manylinux1_x86_64.whl (670.2 MB)\n",
            "\u001b[2K     \u001b[90m━━━━━━━━━━━━━━━━━━━━━━━━━━━━━━━━━━━━━━━━\u001b[0m \u001b[32m670.2/670.2 MB\u001b[0m \u001b[31m1.1 MB/s\u001b[0m eta \u001b[36m0:00:00\u001b[0m\n",
            "\u001b[?25hRequirement already satisfied: torchvision in /usr/local/lib/python3.10/dist-packages (0.16.0+cu121)\n",
            "Collecting torchvision\n",
            "  Downloading torchvision-0.16.2-cp310-cp310-manylinux1_x86_64.whl (6.8 MB)\n",
            "\u001b[2K     \u001b[90m━━━━━━━━━━━━━━━━━━━━━━━━━━━━━━━━━━━━━━━━\u001b[0m \u001b[32m6.8/6.8 MB\u001b[0m \u001b[31m85.6 MB/s\u001b[0m eta \u001b[36m0:00:00\u001b[0m\n",
            "\u001b[?25hRequirement already satisfied: torchaudio in /usr/local/lib/python3.10/dist-packages (2.1.0+cu121)\n",
            "Collecting torchaudio\n",
            "  Downloading torchaudio-2.1.2-cp310-cp310-manylinux1_x86_64.whl (3.3 MB)\n",
            "\u001b[2K     \u001b[90m━━━━━━━━━━━━━━━━━━━━━━━━━━━━━━━━━━━━━━━━\u001b[0m \u001b[32m3.3/3.3 MB\u001b[0m \u001b[31m83.0 MB/s\u001b[0m eta \u001b[36m0:00:00\u001b[0m\n",
            "\u001b[?25hRequirement already satisfied: filelock in /usr/local/lib/python3.10/dist-packages (from torch) (3.13.1)\n",
            "Requirement already satisfied: typing-extensions in /usr/local/lib/python3.10/dist-packages (from torch) (4.5.0)\n",
            "Requirement already satisfied: sympy in /usr/local/lib/python3.10/dist-packages (from torch) (1.12)\n",
            "Requirement already satisfied: networkx in /usr/local/lib/python3.10/dist-packages (from torch) (3.2.1)\n",
            "Requirement already satisfied: jinja2 in /usr/local/lib/python3.10/dist-packages (from torch) (3.1.2)\n",
            "Requirement already satisfied: fsspec in /usr/local/lib/python3.10/dist-packages (from torch) (2023.6.0)\n",
            "Collecting nvidia-cuda-nvrtc-cu12==12.1.105 (from torch)\n",
            "\u001b[31m  ERROR: HTTP error 403 while getting https://download.pytorch.org/whl/nightly/nvidia_cuda_nvrtc_cu12-12.1.105-py3-none-manylinux1_x86_64.whl (from https://download.pytorch.org/whl/nightly/cu113/nvidia-cuda-nvrtc-cu12/)\u001b[0m\u001b[31m\n",
            "\u001b[0m\u001b[31mERROR: Could not install requirement nvidia-cuda-nvrtc-cu12==12.1.105 from https://download.pytorch.org/whl/nightly/nvidia_cuda_nvrtc_cu12-12.1.105-py3-none-manylinux1_x86_64.whl (from torch) because of HTTP error 403 Client Error: Forbidden for url: https://download.pytorch.org/whl/nightly/nvidia_cuda_nvrtc_cu12-12.1.105-py3-none-manylinux1_x86_64.whl for URL https://download.pytorch.org/whl/nightly/nvidia_cuda_nvrtc_cu12-12.1.105-py3-none-manylinux1_x86_64.whl (from https://download.pytorch.org/whl/nightly/cu113/nvidia-cuda-nvrtc-cu12/)\u001b[0m\u001b[31m\n",
            "\u001b[0mtorch version: 2.1.0+cu121\n",
            "torchvision version: 0.16.0+cu121\n"
          ]
        }
      ],
      "source": [
        "# For this notebook to run with updated APIs, we need torch 1.12+ and torchvision 0.13+\n",
        "try:\n",
        "    import torch\n",
        "    import torchvision\n",
        "    assert int(torch.__version__.split(\".\")[1]) >= 12, \"torch version should be 1.12+\"\n",
        "    assert int(torchvision.__version__.split(\".\")[1]) >= 13, \"torchvision version should be 0.13+\"\n",
        "    print(f\"torch version: {torch.__version__}\")\n",
        "    print(f\"torchvision version: {torchvision.__version__}\")\n",
        "except:\n",
        "    print(f\"[INFO] torch/torchvision versions not as required, installing nightly versions.\")\n",
        "    !pip3 install -U --pre torch torchvision torchaudio --extra-index-url https://download.pytorch.org/whl/nightly/cu113\n",
        "    import torch\n",
        "    import torchvision\n",
        "    print(f\"torch version: {torch.__version__}\")\n",
        "    print(f\"torchvision version: {torchvision.__version__}\")\n"
      ]
    },
    {
      "cell_type": "code",
      "execution_count": 3,
      "metadata": {
        "id": "HZtrdmxgEXXX",
        "colab": {
          "base_uri": "https://localhost:8080/"
        },
        "outputId": "3610f1dd-6dca-430c-e91b-c368bfc2a7d2"
      },
      "outputs": [
        {
          "output_type": "stream",
          "name": "stdout",
          "text": [
            "[INFO] Couldn't find torchinfo... installing it.\n",
            "[INFO] Couldn't find going_modular or helper_functions scripts... downloading them from GitHub.\n",
            "Cloning into 'pytorch-deep-learning'...\n",
            "remote: Enumerating objects: 4036, done.\u001b[K\n",
            "remote: Counting objects: 100% (1224/1224), done.\u001b[K\n",
            "remote: Compressing objects: 100% (226/226), done.\u001b[K\n",
            "remote: Total 4036 (delta 1067), reused 1080 (delta 995), pack-reused 2812\u001b[K\n",
            "Receiving objects: 100% (4036/4036), 651.50 MiB | 26.63 MiB/s, done.\n",
            "Resolving deltas: 100% (2360/2360), done.\n",
            "Updating files: 100% (248/248), done.\n"
          ]
        }
      ],
      "source": [
        "# Continue with regular imports\n",
        "import matplotlib.pyplot as plt\n",
        "import torch\n",
        "import torchvision\n",
        "\n",
        "from torch import nn\n",
        "from torchvision import transforms\n",
        "\n",
        "# Try to get torchinfo, install it if it doesn't work\n",
        "try:\n",
        "    from torchinfo import summary\n",
        "except:\n",
        "    print(\"[INFO] Couldn't find torchinfo... installing it.\")\n",
        "    !pip install -q torchinfo\n",
        "    from torchinfo import summary\n",
        "\n",
        "# Try to import the going_modular directory, download it from GitHub if it doesn't work\n",
        "try:\n",
        "    from going_modular.going_modular import data_setup, engine\n",
        "    from helper_functions import download_data, set_seeds, plot_loss_curves\n",
        "except:\n",
        "    # Get the going_modular scripts\n",
        "    print(\"[INFO] Couldn't find going_modular or helper_functions scripts... downloading them from GitHub.\")\n",
        "    !git clone https://github.com/mrdbourke/pytorch-deep-learning\n",
        "    !mv pytorch-deep-learning/going_modular .\n",
        "    !mv pytorch-deep-learning/helper_functions.py . # get the helper_functions.py script\n",
        "    !rm -rf pytorch-deep-learning\n",
        "    from going_modular.going_modular import data_setup, engine\n",
        "    from helper_functions import download_data, set_seeds, plot_loss_curves"
      ]
    },
    {
      "cell_type": "code",
      "execution_count": 4,
      "metadata": {
        "colab": {
          "base_uri": "https://localhost:8080/",
          "height": 36
        },
        "id": "8eYNrqdjEfO0",
        "outputId": "93604b4b-60f7-43d8-9c32-1994b6c160ab"
      },
      "outputs": [
        {
          "output_type": "execute_result",
          "data": {
            "text/plain": [
              "'cpu'"
            ],
            "application/vnd.google.colaboratory.intrinsic+json": {
              "type": "string"
            }
          },
          "metadata": {},
          "execution_count": 4
        }
      ],
      "source": [
        "device = \"cuda\" if torch.cuda.is_available() else \"cpu\"\n",
        "device"
      ]
    },
    {
      "cell_type": "markdown",
      "metadata": {
        "id": "7yIc4BVcEqQp"
      },
      "source": [
        "**Get Data**"
      ]
    },
    {
      "cell_type": "code",
      "execution_count": 5,
      "metadata": {
        "colab": {
          "base_uri": "https://localhost:8080/"
        },
        "id": "oxTqCcYGEtYs",
        "outputId": "fe4c2386-5e85-467e-ee6d-5f1a72aed332"
      },
      "outputs": [
        {
          "output_type": "stream",
          "name": "stdout",
          "text": [
            "[INFO] Did not find data/pizza_steak_sushi directory, creating one...\n",
            "[INFO] Downloading pizza_steak_sushi.zip from https://github.com/mrdbourke/pytorch-deep-learning/raw/main/data/pizza_steak_sushi.zip...\n",
            "[INFO] Unzipping pizza_steak_sushi.zip data...\n"
          ]
        },
        {
          "output_type": "execute_result",
          "data": {
            "text/plain": [
              "PosixPath('data/pizza_steak_sushi')"
            ]
          },
          "metadata": {},
          "execution_count": 5
        }
      ],
      "source": [
        "# Download pizza, steak, sushi images from GitHub\n",
        "image_path = download_data(source=\"https://github.com/mrdbourke/pytorch-deep-learning/raw/main/data/pizza_steak_sushi.zip\",\n",
        "                           destination=\"pizza_steak_sushi\")\n",
        "image_path"
      ]
    },
    {
      "cell_type": "code",
      "execution_count": 6,
      "metadata": {
        "id": "0hEfYoG4Eu9L"
      },
      "outputs": [],
      "source": [
        "# Setup directory paths to train and test images\n",
        "train_dir = image_path / \"train\"\n",
        "test_dir = image_path / \"test\""
      ]
    },
    {
      "cell_type": "markdown",
      "metadata": {
        "id": "6yG-XxoJEyT0"
      },
      "source": [
        "**Preprocess data**"
      ]
    },
    {
      "cell_type": "code",
      "execution_count": 7,
      "metadata": {
        "colab": {
          "base_uri": "https://localhost:8080/"
        },
        "id": "eKLZ43OhE1Ij",
        "outputId": "48463a82-7817-42aa-e58a-c4f7e73b2d29"
      },
      "outputs": [
        {
          "output_type": "stream",
          "name": "stdout",
          "text": [
            "Manually created transforms: Compose(\n",
            "    Resize(size=(224, 224), interpolation=bilinear, max_size=None, antialias=warn)\n",
            "    ToTensor()\n",
            ")\n"
          ]
        }
      ],
      "source": [
        "# Create image size (from Table 3 in the ViT paper)\n",
        "IMG_SIZE = 224\n",
        "\n",
        "# Create transform pipeline manually\n",
        "manual_transforms = transforms.Compose([\n",
        "    transforms.Resize((IMG_SIZE, IMG_SIZE)),\n",
        "    transforms.ToTensor(),\n",
        "])\n",
        "print(f\"Manually created transforms: {manual_transforms}\")"
      ]
    },
    {
      "cell_type": "code",
      "execution_count": 8,
      "metadata": {
        "colab": {
          "base_uri": "https://localhost:8080/"
        },
        "id": "OCy-RYVuE4BK",
        "outputId": "7953519a-78ab-4148-c00c-b57bec145980"
      },
      "outputs": [
        {
          "output_type": "execute_result",
          "data": {
            "text/plain": [
              "(<torch.utils.data.dataloader.DataLoader at 0x7911cfd47a60>,\n",
              " <torch.utils.data.dataloader.DataLoader at 0x7911cfd46950>,\n",
              " ['pizza', 'steak', 'sushi'])"
            ]
          },
          "metadata": {},
          "execution_count": 8
        }
      ],
      "source": [
        "# Set the batch size\n",
        "BATCH_SIZE = 32 # this is lower than the ViT paper but it's because we're starting small\n",
        "\n",
        "# Create data loaders\n",
        "train_dataloader, test_dataloader, class_names = data_setup.create_dataloaders(\n",
        "    train_dir=train_dir,\n",
        "    test_dir=test_dir,\n",
        "    transform=manual_transforms, # use manually created transforms\n",
        "    batch_size=BATCH_SIZE\n",
        ")\n",
        "\n",
        "train_dataloader, test_dataloader, class_names"
      ]
    },
    {
      "cell_type": "code",
      "execution_count": 9,
      "metadata": {
        "colab": {
          "base_uri": "https://localhost:8080/"
        },
        "id": "K6MmTO-KE7-2",
        "outputId": "c998eac2-f32c-45d6-de1a-29c234e75b1c"
      },
      "outputs": [
        {
          "output_type": "execute_result",
          "data": {
            "text/plain": [
              "(torch.Size([3, 224, 224]), tensor(2))"
            ]
          },
          "metadata": {},
          "execution_count": 9
        }
      ],
      "source": [
        "# Get a batch of images\n",
        "image_batch, label_batch = next(iter(train_dataloader))\n",
        "\n",
        "# Get a single image from the batch\n",
        "image, label = image_batch[0], label_batch[0]\n",
        "\n",
        "# View the batch shapes\n",
        "image.shape, label"
      ]
    },
    {
      "cell_type": "code",
      "execution_count": 10,
      "metadata": {
        "colab": {
          "base_uri": "https://localhost:8080/",
          "height": 428
        },
        "id": "vdnrCC25E_Dt",
        "outputId": "2fde519e-9ad0-4791-d463-18688effd2fb"
      },
      "outputs": [
        {
          "output_type": "display_data",
          "data": {
            "text/plain": [
              "<Figure size 640x480 with 1 Axes>"
            ],
            "image/png": "[encoded data removed]"
          },
          "metadata": {}
        }
      ],
      "source": [
        "# Plot image with matplotlib\n",
        "plt.imshow(image.permute(1, 2, 0)) # rearrange image dimensions to suit matplotlib [color_channels, height, width] -> [height, width, color_channels]\n",
        "plt.title(class_names[label])\n",
        "plt.axis(False);"
      ]
    },
    {
      "cell_type": "markdown",
      "metadata": {
        "id": "s87tMTmLCC6m"
      },
      "source": [
        "**1. Replicate the ViT architecture we created with in-built PyTorch transformer layers.**"
      ]
    },
    {
      "cell_type": "markdown",
      "metadata": {
        "id": "XJY2cXx4DNeO"
      },
      "source": [
        "Gantilah penggunaan kelas `TransformerEncoderBlock()` dengan `torch.nn.TransformerEncoderLayer()` untuk menggantikan blok kustom dengan lapisan Transformer bawaan PyTorch.\n",
        "\n",
        "Tumpuk beberapa lapisan `torch.nn.TransformerEncoderLayer()` untuk membentuk struktur ViT dengan menggunakan `torch.nn.TransformerEncoder()`. Jumlah lapisan yang ditumpuk dapat disesuaikan dengan kebutuhan arsitektur.\n",
        "\n",
        "Pastikan untuk menyesuaikan parameter seperti `d_model`, `nhead`, dan `dim_feedforward` sesuai dengan kebutuhan proyek ViT yang sedang kamu kerjakan.\n"
      ]
    },
    {
      "cell_type": "markdown",
      "metadata": {
        "id": "GmqEZO2HDxxS"
      },
      "source": [
        "Langkah-langkah:\n",
        "\n",
        "*   Konversi gambar menjadi potongan yang sudah di-embed (PatchEmbedding).\n",
        "*   Lapisan Transformer Encoder (terdiri dari blok MSA dan blok MLP yang saling bergantian).\n",
        "*   Tumpuk beberapa lapisan transformer encoder.\n",
        "Kepala MLP.\n",
        "*  Gabungkan semuanya untuk membuat ViT.\n",
        "\n"
      ]
    },
    {
      "cell_type": "markdown",
      "metadata": {
        "id": "XNTaI6AZEABv"
      },
      "source": [
        "**A. Konversi gambar menjadi potongan yang sudah di-embed (PatchEmbedding).**"
      ]
    },
    {
      "cell_type": "code",
      "execution_count": 11,
      "metadata": {
        "colab": {
          "base_uri": "https://localhost:8080/"
        },
        "id": "EIoO972-BZHv",
        "outputId": "05e93bd2-a73e-4c6c-a367-8f90ee029a4d"
      },
      "outputs": [
        {
          "output_type": "execute_result",
          "data": {
            "text/plain": [
              "torch.Size([32, 3, 224, 224])"
            ]
          },
          "metadata": {},
          "execution_count": 11
        }
      ],
      "source": [
        "rand_image_tensor = torch.randn(32, 3, 224, 224) # (batch_size, color_channels, height, width)\n",
        "rand_image_tensor.shape"
      ]
    },
    {
      "cell_type": "code",
      "execution_count": 12,
      "metadata": {
        "id": "SPJcROuTEGZR"
      },
      "outputs": [],
      "source": [
        "# 1. Create a class which subclasses nn.Module\n",
        "class PatchEmbedding(nn.Module):\n",
        "    \"\"\"Turns a 2D input image into a 1D sequence learnable embedding vector.\n",
        "\n",
        "    Args:\n",
        "        in_channels (int): Number of color channels for the input images. Defaults to 3.\n",
        "        patch_size (int): Size of patches to convert input image into. Defaults to 16.\n",
        "        embedding_dim (int): Size of embedding to turn image into. Defaults to 768.\n",
        "    \"\"\"\n",
        "    # 2. Initialize the class with appropriate variables\n",
        "    def __init__(self,\n",
        "                 in_channels:int=3,\n",
        "                 patch_size:int=16,\n",
        "                 embedding_dim:int=768):\n",
        "        super().__init__()\n",
        "\n",
        "        self.patch_size = patch_size\n",
        "\n",
        "        # 3. Create a layer to turn an image into patches\n",
        "        self.patcher = nn.Conv2d(in_channels=in_channels,\n",
        "                                 out_channels=embedding_dim,\n",
        "                                 kernel_size=patch_size,\n",
        "                                 stride=patch_size,\n",
        "                                 padding=0)\n",
        "\n",
        "        # 4. Create a layer to flatten the patch feature maps into a single dimension\n",
        "        self.flatten = nn.Flatten(start_dim=2, # only flatten the feature map dimensions into a single vector\n",
        "                                  end_dim=3)\n",
        "\n",
        "    # 5. Define the forward method\n",
        "    def forward(self, x):\n",
        "        # Create assertion to check that inputs are the correct shape\n",
        "        image_resolution = x.shape[-1]\n",
        "        assert image_resolution % self.patch_size == 0, f\"Input image size must be divisble by patch size, image shape: {image_resolution}, patch size: {self.patch_size}\"\n",
        "\n",
        "        # Perform the forward pass\n",
        "        x_patched = self.patcher(x)\n",
        "        x_flattened = self.flatten(x_patched)\n",
        "        # 6. Make sure the output shape has the right order\n",
        "        return x_flattened.permute(0, 2, 1) # adjust so the embedding is on the final dimension [batch_size, P^2•C, N]"
      ]
    },
    {
      "cell_type": "code",
      "execution_count": 13,
      "metadata": {
        "colab": {
          "base_uri": "https://localhost:8080/"
        },
        "id": "zXJ5mNlRFIkO",
        "outputId": "e2a0c441-4e77-4958-a565-10b966abffb3"
      },
      "outputs": [
        {
          "output_type": "stream",
          "name": "stdout",
          "text": [
            "Input shape: torch.Size([32, 3, 224, 224])\n",
            "Output shape: torch.Size([32, 196, 768]) -> (batch_size, num_patches, embedding_dim)\n"
          ]
        }
      ],
      "source": [
        "patch_embedding = PatchEmbedding(patch_size=16)\n",
        "patch_embedding_output = patch_embedding(rand_image_tensor)\n",
        "print(f\"Input shape: {rand_image_tensor.shape}\")\n",
        "print(f\"Output shape: {patch_embedding_output.shape} -> (batch_size, num_patches, embedding_dim)\")"
      ]
    },
    {
      "cell_type": "markdown",
      "metadata": {
        "id": "C2I2QcxZFNDp"
      },
      "source": [
        "**B. TransformerEncoderLayer**"
      ]
    },
    {
      "cell_type": "code",
      "execution_count": 14,
      "metadata": {
        "colab": {
          "base_uri": "https://localhost:8080/"
        },
        "id": "N5qsgcofFPdK",
        "outputId": "be661946-3e3b-4705-8287-e897bd81a9e5"
      },
      "outputs": [
        {
          "output_type": "execute_result",
          "data": {
            "text/plain": [
              "TransformerEncoderLayer(\n",
              "  (self_attn): MultiheadAttention(\n",
              "    (out_proj): NonDynamicallyQuantizableLinear(in_features=768, out_features=768, bias=True)\n",
              "  )\n",
              "  (linear1): Linear(in_features=768, out_features=3072, bias=True)\n",
              "  (dropout): Dropout(p=0.1, inplace=False)\n",
              "  (linear2): Linear(in_features=3072, out_features=768, bias=True)\n",
              "  (norm1): LayerNorm((768,), eps=1e-05, elementwise_affine=True)\n",
              "  (norm2): LayerNorm((768,), eps=1e-05, elementwise_affine=True)\n",
              "  (dropout1): Dropout(p=0.1, inplace=False)\n",
              "  (dropout2): Dropout(p=0.1, inplace=False)\n",
              ")"
            ]
          },
          "metadata": {},
          "execution_count": 14
        }
      ],
      "source": [
        "# Hyperparameters from Table 1 and Table 3 for ViT-Base\n",
        "transformer_encoder_layer = nn.TransformerEncoderLayer(d_model=768,\n",
        "                                                       nhead=12,\n",
        "                                                       dim_feedforward=3072,\n",
        "                                                       dropout=0.1,\n",
        "                                                       activation=\"gelu\",\n",
        "                                                       batch_first=True,\n",
        "                                                       norm_first=True)\n",
        "transformer_encoder_layer"
      ]
    },
    {
      "cell_type": "code",
      "execution_count": 15,
      "metadata": {
        "colab": {
          "base_uri": "https://localhost:8080/"
        },
        "id": "RobaD9IvFSxW",
        "outputId": "61f0f5b9-8932-4c8c-ef0e-6f4a0c8a3555"
      },
      "outputs": [
        {
          "output_type": "execute_result",
          "data": {
            "text/plain": [
              "==========================================================================================\n",
              "Layer (type:depth-idx)                   Output Shape              Param #\n",
              "==========================================================================================\n",
              "TransformerEncoderLayer                  [32, 196, 768]            7,087,872\n",
              "==========================================================================================\n",
              "Total params: 7,087,872\n",
              "Trainable params: 7,087,872\n",
              "Non-trainable params: 0\n",
              "Total mult-adds (M): 0\n",
              "==========================================================================================\n",
              "Input size (MB): 19.27\n",
              "Forward/backward pass size (MB): 0.00\n",
              "Params size (MB): 0.00\n",
              "Estimated Total Size (MB): 19.27\n",
              "=========================================================================================="
            ]
          },
          "metadata": {},
          "execution_count": 15
        }
      ],
      "source": [
        "from torchinfo import summary\n",
        "\n",
        "summary(model=transformer_encoder_layer,\n",
        "        input_size=patch_embedding_output.shape)"
      ]
    },
    {
      "cell_type": "markdown",
      "metadata": {
        "id": "JT8KbFhNFYNd"
      },
      "source": [
        "**C.Stack Transformer Encoder Layers on top of each other to make the full Transformer Encoder**"
      ]
    },
    {
      "cell_type": "code",
      "execution_count": 16,
      "metadata": {
        "id": "Os0nKfViFWhd",
        "colab": {
          "base_uri": "https://localhost:8080/"
        },
        "outputId": "c3599ba2-a111-49bf-d7f5-9b932f13a52a"
      },
      "outputs": [
        {
          "output_type": "stream",
          "name": "stderr",
          "text": [
            "/usr/local/lib/python3.10/dist-packages/torch/nn/modules/transformer.py:282: UserWarning: enable_nested_tensor is True, but self.use_nested_tensor is False because encoder_layer.norm_first was True\n",
            "  warnings.warn(f\"enable_nested_tensor is True, but self.use_nested_tensor is False because {why_not_sparsity_fast_path}\")\n"
          ]
        }
      ],
      "source": [
        "transformer_encoder = nn.TransformerEncoder(\n",
        "    encoder_layer=transformer_encoder_layer,\n",
        "    num_layers=12)\n",
        "\n",
        "# transformer_encoder"
      ]
    },
    {
      "cell_type": "markdown",
      "metadata": {
        "id": "vR9bW_lzFhge"
      },
      "source": [
        "**D. Put it all together and create ViT**"
      ]
    },
    {
      "cell_type": "code",
      "execution_count": 17,
      "metadata": {
        "id": "GkeWZQ9DFpJn"
      },
      "outputs": [],
      "source": [
        "class ViT(nn.Module):\n",
        "  def __init__(self,\n",
        "               img_size=224, # from Table 3\n",
        "               num_channels=3,\n",
        "               patch_size=16,\n",
        "               embedding_dim=768, # from Table 1\n",
        "               dropout=0.1,\n",
        "               mlp_size=3072, # from Table 1\n",
        "               num_transformer_layers=12, # from Table 1\n",
        "               num_heads=12, # from Table 1 (number of multi-head self attention heads)\n",
        "               num_classes=1000): # generic number of classes (this can be adjusted)\n",
        "    super().__init__()\n",
        "\n",
        "    # Assert image size is divisible by patch size\n",
        "    assert img_size % patch_size == 0, \"Image size must be divisble by patch size.\"\n",
        "\n",
        "    # 1. Create patch embedding\n",
        "    self.patch_embedding = PatchEmbedding(in_channels=num_channels,\n",
        "                                          patch_size=patch_size,\n",
        "                                          embedding_dim=embedding_dim)\n",
        "\n",
        "    # 2. Create class token\n",
        "    self.class_token = nn.Parameter(torch.randn(1, 1, embedding_dim),\n",
        "                                    requires_grad=True)\n",
        "\n",
        "    # 3. Create positional embedding\n",
        "    num_patches = (img_size * img_size) // patch_size**2 # N = HW/P^2\n",
        "    self.positional_embedding = nn.Parameter(torch.randn(1, num_patches+1, embedding_dim))\n",
        "\n",
        "    # 4. Create patch + position embedding dropout\n",
        "    self.embedding_dropout = nn.Dropout(p=dropout)\n",
        "\n",
        "    # # 5. Create Transformer Encoder layer (single)\n",
        "    # self.transformer_encoder_layer = nn.TransformerEncoderLayer(d_model=embedding_dim,\n",
        "    #                                                             nhead=num_heads,\n",
        "    #                                                             dim_feedforward=mlp_size,\n",
        "    #                                                             activation=\"gelu\",\n",
        "    #                                                             batch_first=True,\n",
        "    #                                                             norm_first=True)\n",
        "\n",
        "    # 5. Create stack Transformer Encoder layers (stacked single layers)\n",
        "    self.transformer_encoder = nn.TransformerEncoder(encoder_layer=nn.TransformerEncoderLayer(d_model=embedding_dim,\n",
        "                                                                                              nhead=num_heads,\n",
        "                                                                                              dim_feedforward=mlp_size,\n",
        "                                                                                              activation=\"gelu\",\n",
        "                                                                                              batch_first=True,\n",
        "                                                                                              norm_first=True), # Create a single Transformer Encoder Layer\n",
        "                                                     num_layers=num_transformer_layers) # Stack it N times\n",
        "\n",
        "    # 7. Create MLP head\n",
        "    self.mlp_head = nn.Sequential(\n",
        "        nn.LayerNorm(normalized_shape=embedding_dim),\n",
        "        nn.Linear(in_features=embedding_dim,\n",
        "                  out_features=num_classes)\n",
        "    )\n",
        "\n",
        "  def forward(self, x):\n",
        "    # Get some dimensions from x\n",
        "    batch_size = x.shape[0]\n",
        "\n",
        "    # Create the patch embedding\n",
        "    x = self.patch_embedding(x)\n",
        "    # print(x.shape)\n",
        "\n",
        "    # First, expand the class token across the batch size\n",
        "    class_token = self.class_token.expand(batch_size, -1, -1) # \"-1\" means infer the dimension\n",
        "\n",
        "    # Prepend the class token to the patch embedding\n",
        "    x = torch.cat((class_token, x), dim=1)\n",
        "    # print(x.shape)\n",
        "\n",
        "    # Add the positional embedding to patch embedding with class token\n",
        "    x = self.positional_embedding + x\n",
        "    # print(x.shape)\n",
        "\n",
        "    # Dropout on patch + positional embedding\n",
        "    x = self.embedding_dropout(x)\n",
        "\n",
        "    # Pass embedding through Transformer Encoder stack\n",
        "    x = self.transformer_encoder(x)\n",
        "\n",
        "    # Pass 0th index of x through MLP head\n",
        "    x = self.mlp_head(x[:, 0])\n",
        "\n",
        "    return x"
      ]
    },
    {
      "cell_type": "code",
      "execution_count": 18,
      "metadata": {
        "colab": {
          "base_uri": "https://localhost:8080/"
        },
        "id": "8GyjzDPMFxWB",
        "outputId": "7a2a7e32-e2c2-43a2-8f00-363b3d0d35d2"
      },
      "outputs": [
        {
          "output_type": "stream",
          "name": "stdout",
          "text": [
            "torch.Size([1, 3, 224, 224])\n"
          ]
        },
        {
          "output_type": "execute_result",
          "data": {
            "text/plain": [
              "tensor([[-0.4016,  0.0451,  1.3416]], grad_fn=<AddmmBackward0>)"
            ]
          },
          "metadata": {},
          "execution_count": 18
        }
      ],
      "source": [
        "demo_img = torch.randn(1, 3, 224, 224).to(device)\n",
        "print(demo_img.shape)\n",
        "\n",
        "# Create ViT\n",
        "vit = ViT(num_classes=len(class_names)).to(device)\n",
        "vit(demo_img)"
      ]
    },
    {
      "cell_type": "code",
      "execution_count": 19,
      "metadata": {
        "colab": {
          "base_uri": "https://localhost:8080/"
        },
        "id": "aFlqku8HFzxg",
        "outputId": "21e0feb1-b7a4-4695-9728-af177bd42214"
      },
      "outputs": [
        {
          "output_type": "execute_result",
          "data": {
            "text/plain": [
              "===============================================================================================\n",
              "Layer (type:depth-idx)                        Output Shape              Param #\n",
              "===============================================================================================\n",
              "ViT                                           [1, 3]                    152,064\n",
              "├─PatchEmbedding: 1-1                         [1, 196, 768]             --\n",
              "│    └─Conv2d: 2-1                            [1, 768, 14, 14]          590,592\n",
              "│    └─Flatten: 2-2                           [1, 768, 196]             --\n",
              "├─Dropout: 1-2                                [1, 197, 768]             --\n",
              "├─TransformerEncoder: 1-3                     [1, 197, 768]             --\n",
              "│    └─ModuleList: 2-3                        --                        --\n",
              "│    │    └─TransformerEncoderLayer: 3-1      [1, 197, 768]             7,087,872\n",
              "│    │    └─TransformerEncoderLayer: 3-2      [1, 197, 768]             7,087,872\n",
              "│    │    └─TransformerEncoderLayer: 3-3      [1, 197, 768]             7,087,872\n",
              "│    │    └─TransformerEncoderLayer: 3-4      [1, 197, 768]             7,087,872\n",
              "│    │    └─TransformerEncoderLayer: 3-5      [1, 197, 768]             7,087,872\n",
              "│    │    └─TransformerEncoderLayer: 3-6      [1, 197, 768]             7,087,872\n",
              "│    │    └─TransformerEncoderLayer: 3-7      [1, 197, 768]             7,087,872\n",
              "│    │    └─TransformerEncoderLayer: 3-8      [1, 197, 768]             7,087,872\n",
              "│    │    └─TransformerEncoderLayer: 3-9      [1, 197, 768]             7,087,872\n",
              "│    │    └─TransformerEncoderLayer: 3-10     [1, 197, 768]             7,087,872\n",
              "│    │    └─TransformerEncoderLayer: 3-11     [1, 197, 768]             7,087,872\n",
              "│    │    └─TransformerEncoderLayer: 3-12     [1, 197, 768]             7,087,872\n",
              "├─Sequential: 1-4                             [1, 3]                    --\n",
              "│    └─LayerNorm: 2-4                         [1, 768]                  1,536\n",
              "│    └─Linear: 2-5                            [1, 3]                    2,307\n",
              "===============================================================================================\n",
              "Total params: 85,800,963\n",
              "Trainable params: 85,800,963\n",
              "Non-trainable params: 0\n",
              "Total mult-adds (M): 115.76\n",
              "===============================================================================================\n",
              "Input size (MB): 0.60\n",
              "Forward/backward pass size (MB): 1.21\n",
              "Params size (MB): 2.38\n",
              "Estimated Total Size (MB): 4.19\n",
              "==============================================================================================="
            ]
          },
          "metadata": {},
          "execution_count": 19
        }
      ],
      "source": [
        "summary(model=ViT(num_classes=3),\n",
        "        input_size=demo_img.shape)"
      ]
    },
    {
      "cell_type": "code",
      "execution_count": 20,
      "metadata": {
        "colab": {
          "base_uri": "https://localhost:8080/"
        },
        "id": "gq9s5c1qF2gw",
        "outputId": "89500930-ec4e-4e79-9ffe-f0c67d52a5ec"
      },
      "outputs": [
        {
          "output_type": "execute_result",
          "data": {
            "text/plain": [
              "3"
            ]
          },
          "metadata": {},
          "execution_count": 20
        }
      ],
      "source": [
        "len(class_names)"
      ]
    },
    {
      "cell_type": "code",
      "execution_count": 21,
      "metadata": {
        "colab": {
          "base_uri": "https://localhost:8080/"
        },
        "id": "zdtYeE9SF_ML",
        "outputId": "17543af7-6cf9-40e9-c9f9-6897d8baa7dc"
      },
      "outputs": [
        {
          "output_type": "execute_result",
          "data": {
            "text/plain": [
              "True"
            ]
          },
          "metadata": {},
          "execution_count": 21
        }
      ],
      "source": [
        "embedding_dim=768\n",
        "class_token = nn.Parameter(torch.randn(1, 1, embedding_dim),\n",
        "                                       requires_grad=True)\n",
        "class_token.requires_grad"
      ]
    },
    {
      "cell_type": "code",
      "execution_count": 22,
      "metadata": {
        "colab": {
          "base_uri": "https://localhost:8080/"
        },
        "id": "DaMnUDyZGAEb",
        "outputId": "a8dd87f9-10f8-445b-c4a7-1db9770c7225"
      },
      "outputs": [
        {
          "output_type": "stream",
          "name": "stdout",
          "text": [
            "torch.Size([1, 1, 768])\n"
          ]
        },
        {
          "output_type": "execute_result",
          "data": {
            "text/plain": [
              "torch.Size([32, 1, 768])"
            ]
          },
          "metadata": {},
          "execution_count": 22
        }
      ],
      "source": [
        "batch_size = 32\n",
        "print(class_token.shape)\n",
        "class_token.expand(batch_size, -1, -1).shape # \"-1\" means to infer the dimension"
      ]
    },
    {
      "cell_type": "code",
      "execution_count": 23,
      "metadata": {
        "colab": {
          "base_uri": "https://localhost:8080/"
        },
        "id": "tMa2hEiBGKJu",
        "outputId": "1f2828d4-b59b-45b6-c852-c90c70a0ca3a"
      },
      "outputs": [
        {
          "output_type": "execute_result",
          "data": {
            "text/plain": [
              "torch.Size([1, 197, 768])"
            ]
          },
          "metadata": {},
          "execution_count": 23
        }
      ],
      "source": [
        "patch_size = 16\n",
        "img_size = 224\n",
        "num_patches = (img_size*img_size) // patch_size**2\n",
        "pos_embedding = nn.Parameter(torch.randn(1, num_patches+1, embedding_dim))\n",
        "pos_embedding.shape"
      ]
    },
    {
      "cell_type": "markdown",
      "metadata": {
        "id": "ihtm3MBkGTZB"
      },
      "source": [
        "**2. Turn the custom ViT architecture we created into a Python script, for example, vit.py.**"
      ]
    },
    {
      "cell_type": "code",
      "execution_count": 24,
      "metadata": {
        "colab": {
          "base_uri": "https://localhost:8080/"
        },
        "id": "ZB2fxf4MGTFT",
        "outputId": "7c4f1381-91e4-4a11-87b9-f26c10612291"
      },
      "outputs": [
        {
          "output_type": "stream",
          "name": "stdout",
          "text": [
            "Writing vit.py\n"
          ]
        }
      ],
      "source": [
        "%%writefile vit.py\n",
        "import torch\n",
        "from torch import nn\n",
        "\n",
        "# 1. Create a class which subclasses nn.Module\n",
        "class PatchEmbedding(nn.Module):\n",
        "    \"\"\"Turns a 2D input image into a 1D sequence learnable embedding vector.\n",
        "\n",
        "    Args:\n",
        "        in_channels (int): Number of color channels for the input images. Defaults to 3.\n",
        "        patch_size (int): Size of patches to convert input image into. Defaults to 16.\n",
        "        embedding_dim (int): Size of embedding to turn image into. Defaults to 768.\n",
        "    \"\"\"\n",
        "    # 2. Initialize the class with appropriate variables\n",
        "    def __init__(self,\n",
        "                 in_channels:int=3,\n",
        "                 patch_size:int=16,\n",
        "                 embedding_dim:int=768):\n",
        "        super().__init__()\n",
        "\n",
        "        self.patch_size = patch_size\n",
        "\n",
        "        # 3. Create a layer to turn an image into patches\n",
        "        self.patcher = nn.Conv2d(in_channels=in_channels,\n",
        "                                 out_channels=embedding_dim,\n",
        "                                 kernel_size=patch_size,\n",
        "                                 stride=patch_size,\n",
        "                                 padding=0)\n",
        "\n",
        "        # 4. Create a layer to flatten the patch feature maps into a single dimension\n",
        "        self.flatten = nn.Flatten(start_dim=2, # only flatten the feature map dimensions into a single vector\n",
        "                                  end_dim=3)\n",
        "\n",
        "    # 5. Define the forward method\n",
        "    def forward(self, x):\n",
        "        # Create assertion to check that inputs are the correct shape\n",
        "        image_resolution = x.shape[-1]\n",
        "        assert image_resolution % self.patch_size == 0, f\"Input image size must be divisble by patch size, image shape: {image_resolution}, patch size: {self.patch_size}\"\n",
        "\n",
        "        # Perform the forward pass\n",
        "        x_patched = self.patcher(x)\n",
        "        x_flattened = self.flatten(x_patched)\n",
        "        # 6. Make sure the output shape has the right order\n",
        "        return x_flattened.permute(0, 2, 1) # adjust so the embedding is on the final dimension [batch_size, P^2•C, N] -> [batch_size, N, P^2•C]\n",
        "\n",
        "class ViT(nn.Module):\n",
        "  def __init__(self,\n",
        "               img_size=224, # from Table 3\n",
        "               num_channels=3,\n",
        "               patch_size=16,\n",
        "               embedding_dim=768, # from Table 1\n",
        "               dropout=0.1,\n",
        "               mlp_size=3072, # from Table 1\n",
        "               num_transformer_layers=12, # from Table 1\n",
        "               num_heads=12, # from Table 1 (number of multi-head self attention heads)\n",
        "               num_classes=1000): # generic number of classes (this can be adjusted)\n",
        "    super().__init__()\n",
        "\n",
        "    # Assert image size is divisible by patch size\n",
        "    assert img_size % patch_size == 0, \"Image size must be divisble by patch size.\"\n",
        "\n",
        "    # 1. Create patch embedding\n",
        "    self.patch_embedding = PatchEmbedding(in_channels=num_channels,\n",
        "                                          patch_size=patch_size,\n",
        "                                          embedding_dim=embedding_dim)\n",
        "\n",
        "    # 2. Create class token\n",
        "    self.class_token = nn.Parameter(torch.randn(1, 1, embedding_dim),\n",
        "                                    requires_grad=True)\n",
        "\n",
        "    # 3. Create positional embedding\n",
        "    num_patches = (img_size * img_size) // patch_size**2 # N = HW/P^2\n",
        "    self.positional_embedding = nn.Parameter(torch.randn(1, num_patches+1, embedding_dim))\n",
        "\n",
        "    # 4. Create patch + position embedding dropout\n",
        "    self.embedding_dropout = nn.Dropout(p=dropout)\n",
        "\n",
        "    # # 5. Create Transformer Encoder layer (single)\n",
        "    # self.transformer_encoder_layer = nn.TransformerEncoderLayer(d_model=embedding_dim,\n",
        "    #                                                             nhead=num_heads,\n",
        "    #                                                             dim_feedforward=mlp_size,\n",
        "    #                                                             activation=\"gelu\",\n",
        "    #                                                             batch_first=True,\n",
        "    #                                                             norm_first=True)\n",
        "\n",
        "    # 5. Create stack Transformer Encoder layers (stacked single layers)\n",
        "    self.transformer_encoder = nn.TransformerEncoder(encoder_layer=nn.TransformerEncoderLayer(d_model=embedding_dim,\n",
        "                                                                                              nhead=num_heads,\n",
        "                                                                                              dim_feedforward=mlp_size,\n",
        "                                                                                              activation=\"gelu\",\n",
        "                                                                                              batch_first=True,\n",
        "                                                                                              norm_first=True), # Create a single Transformer Encoder Layer\n",
        "                                                     num_layers=num_transformer_layers) # Stack it N times\n",
        "\n",
        "    # 7. Create MLP head\n",
        "    self.mlp_head = nn.Sequential(\n",
        "        nn.LayerNorm(normalized_shape=embedding_dim),\n",
        "        nn.Linear(in_features=embedding_dim,\n",
        "                  out_features=num_classes)\n",
        "    )\n",
        "\n",
        "  def forward(self, x):\n",
        "    # Get some dimensions from x\n",
        "    batch_size = x.shape[0]\n",
        "\n",
        "    # Create the patch embedding\n",
        "    x = self.patch_embedding(x)\n",
        "    # print(x.shape)\n",
        "\n",
        "    # First, expand the class token across the batch size\n",
        "    class_token = self.class_token.expand(batch_size, -1, -1) # \"-1\" means infer the dimension\n",
        "\n",
        "    # Prepend the class token to the patch embedding\n",
        "    x = torch.cat((class_token, x), dim=1)\n",
        "    # print(x.shape)\n",
        "\n",
        "    # Add the positional embedding to patch embedding with class token\n",
        "    x = self.positional_embedding + x\n",
        "    # print(x.shape)\n",
        "\n",
        "    # Dropout on patch + positional embedding\n",
        "    x = self.embedding_dropout(x)\n",
        "\n",
        "    # Pass embedding through Transformer Encoder stack\n",
        "    x = self.transformer_encoder(x)\n",
        "\n",
        "    # Pass 0th index of x through MLP head\n",
        "    x = self.mlp_head(x[:, 0])\n",
        "\n",
        "    return x\n"
      ]
    },
    {
      "cell_type": "code",
      "execution_count": 25,
      "metadata": {
        "id": "UWb8BBwcGepH"
      },
      "outputs": [],
      "source": [
        "!python vit.py"
      ]
    },
    {
      "cell_type": "code",
      "execution_count": 26,
      "metadata": {
        "colab": {
          "base_uri": "https://localhost:8080/"
        },
        "id": "kZ6zOVqrGgUF",
        "outputId": "d7201859-40b2-4643-969d-f7b2d3c4f70e"
      },
      "outputs": [
        {
          "output_type": "execute_result",
          "data": {
            "text/plain": [
              "===============================================================================================\n",
              "Layer (type:depth-idx)                        Output Shape              Param #\n",
              "===============================================================================================\n",
              "ViT                                           [1, 1000]                 152,064\n",
              "├─PatchEmbedding: 1-1                         [1, 196, 768]             --\n",
              "│    └─Conv2d: 2-1                            [1, 768, 14, 14]          590,592\n",
              "│    └─Flatten: 2-2                           [1, 768, 196]             --\n",
              "├─Dropout: 1-2                                [1, 197, 768]             --\n",
              "├─TransformerEncoder: 1-3                     [1, 197, 768]             --\n",
              "│    └─ModuleList: 2-3                        --                        --\n",
              "│    │    └─TransformerEncoderLayer: 3-1      [1, 197, 768]             7,087,872\n",
              "│    │    └─TransformerEncoderLayer: 3-2      [1, 197, 768]             7,087,872\n",
              "│    │    └─TransformerEncoderLayer: 3-3      [1, 197, 768]             7,087,872\n",
              "│    │    └─TransformerEncoderLayer: 3-4      [1, 197, 768]             7,087,872\n",
              "│    │    └─TransformerEncoderLayer: 3-5      [1, 197, 768]             7,087,872\n",
              "│    │    └─TransformerEncoderLayer: 3-6      [1, 197, 768]             7,087,872\n",
              "│    │    └─TransformerEncoderLayer: 3-7      [1, 197, 768]             7,087,872\n",
              "│    │    └─TransformerEncoderLayer: 3-8      [1, 197, 768]             7,087,872\n",
              "│    │    └─TransformerEncoderLayer: 3-9      [1, 197, 768]             7,087,872\n",
              "│    │    └─TransformerEncoderLayer: 3-10     [1, 197, 768]             7,087,872\n",
              "│    │    └─TransformerEncoderLayer: 3-11     [1, 197, 768]             7,087,872\n",
              "│    │    └─TransformerEncoderLayer: 3-12     [1, 197, 768]             7,087,872\n",
              "├─Sequential: 1-4                             [1, 1000]                 --\n",
              "│    └─LayerNorm: 2-4                         [1, 768]                  1,536\n",
              "│    └─Linear: 2-5                            [1, 1000]                 769,000\n",
              "===============================================================================================\n",
              "Total params: 86,567,656\n",
              "Trainable params: 86,567,656\n",
              "Non-trainable params: 0\n",
              "Total mult-adds (M): 116.53\n",
              "===============================================================================================\n",
              "Input size (MB): 0.60\n",
              "Forward/backward pass size (MB): 1.22\n",
              "Params size (MB): 5.44\n",
              "Estimated Total Size (MB): 7.27\n",
              "==============================================================================================="
            ]
          },
          "metadata": {},
          "execution_count": 26
        }
      ],
      "source": [
        "from vit import ViT\n",
        "\n",
        "imported_vit = ViT()\n",
        "summary(model=imported_vit,\n",
        "        input_size=(1, 3, 224, 224))"
      ]
    },
    {
      "cell_type": "markdown",
      "metadata": {
        "id": "Q-rAhXp1GmVy"
      },
      "source": [
        "**3. Train a pretrained ViT feature extractor model (like the one we made in 08. PyTorch Paper Replicating section 10) on 20% of the pizza, steak and sushi data like the dataset we used in 07. PyTorch Experiment Tracking section 7.3**"
      ]
    },
    {
      "cell_type": "code",
      "execution_count": 27,
      "metadata": {
        "id": "c4fnY3BpGikZ"
      },
      "outputs": [],
      "source": [
        "set_seeds()"
      ]
    },
    {
      "cell_type": "code",
      "execution_count": 28,
      "metadata": {
        "colab": {
          "base_uri": "https://localhost:8080/"
        },
        "id": "Z5iAhyS-GrBx",
        "outputId": "7139591e-8695-42ae-9c33-0e09053fff4a"
      },
      "outputs": [
        {
          "output_type": "stream",
          "name": "stderr",
          "text": [
            "Downloading: \"https://download.pytorch.org/models/vit_b_16-c867db91.pth\" to /root/.cache/torch/hub/checkpoints/vit_b_16-c867db91.pth\n",
            "100%|██████████| 330M/330M [00:07<00:00, 47.0MB/s]\n"
          ]
        },
        {
          "output_type": "execute_result",
          "data": {
            "text/plain": [
              "============================================================================================================================================\n",
              "Layer (type (var_name))                                      Input Shape          Output Shape         Param #              Trainable\n",
              "============================================================================================================================================\n",
              "VisionTransformer (VisionTransformer)                        [1, 3, 224, 224]     [1, 3]               768                  Partial\n",
              "├─Conv2d (conv_proj)                                         [1, 3, 224, 224]     [1, 768, 14, 14]     (590,592)            False\n",
              "├─Encoder (encoder)                                          [1, 197, 768]        [1, 197, 768]        151,296              False\n",
              "│    └─Dropout (dropout)                                     [1, 197, 768]        [1, 197, 768]        --                   --\n",
              "│    └─Sequential (layers)                                   [1, 197, 768]        [1, 197, 768]        --                   False\n",
              "│    │    └─EncoderBlock (encoder_layer_0)                   [1, 197, 768]        [1, 197, 768]        (7,087,872)          False\n",
              "│    │    └─EncoderBlock (encoder_layer_1)                   [1, 197, 768]        [1, 197, 768]        (7,087,872)          False\n",
              "│    │    └─EncoderBlock (encoder_layer_2)                   [1, 197, 768]        [1, 197, 768]        (7,087,872)          False\n",
              "│    │    └─EncoderBlock (encoder_layer_3)                   [1, 197, 768]        [1, 197, 768]        (7,087,872)          False\n",
              "│    │    └─EncoderBlock (encoder_layer_4)                   [1, 197, 768]        [1, 197, 768]        (7,087,872)          False\n",
              "│    │    └─EncoderBlock (encoder_layer_5)                   [1, 197, 768]        [1, 197, 768]        (7,087,872)          False\n",
              "│    │    └─EncoderBlock (encoder_layer_6)                   [1, 197, 768]        [1, 197, 768]        (7,087,872)          False\n",
              "│    │    └─EncoderBlock (encoder_layer_7)                   [1, 197, 768]        [1, 197, 768]        (7,087,872)          False\n",
              "│    │    └─EncoderBlock (encoder_layer_8)                   [1, 197, 768]        [1, 197, 768]        (7,087,872)          False\n",
              "│    │    └─EncoderBlock (encoder_layer_9)                   [1, 197, 768]        [1, 197, 768]        (7,087,872)          False\n",
              "│    │    └─EncoderBlock (encoder_layer_10)                  [1, 197, 768]        [1, 197, 768]        (7,087,872)          False\n",
              "│    │    └─EncoderBlock (encoder_layer_11)                  [1, 197, 768]        [1, 197, 768]        (7,087,872)          False\n",
              "│    └─LayerNorm (ln)                                        [1, 197, 768]        [1, 197, 768]        (1,536)              False\n",
              "├─Sequential (heads)                                         [1, 768]             [1, 3]               --                   True\n",
              "│    └─LayerNorm (0)                                         [1, 768]             [1, 768]             1,536                True\n",
              "│    └─Linear (1)                                            [1, 768]             [1, 3]               2,307                True\n",
              "============================================================================================================================================\n",
              "Total params: 85,802,499\n",
              "Trainable params: 3,843\n",
              "Non-trainable params: 85,798,656\n",
              "Total mult-adds (M): 172.47\n",
              "============================================================================================================================================\n",
              "Input size (MB): 0.60\n",
              "Forward/backward pass size (MB): 104.09\n",
              "Params size (MB): 229.21\n",
              "Estimated Total Size (MB): 333.90\n",
              "============================================================================================================================================"
            ]
          },
          "metadata": {},
          "execution_count": 28
        }
      ],
      "source": [
        "# Create ViT feature extractor model\n",
        "import torchvision\n",
        "\n",
        "# Download pretrained ViT weights and model\n",
        "vit_weights = torchvision.models.ViT_B_16_Weights.DEFAULT # \"DEFAULT\" means best available\n",
        "pretrained_vit = torchvision.models.vit_b_16(weights=vit_weights)\n",
        "\n",
        "# Freeze all layers in pretrained ViT model\n",
        "for param in pretrained_vit.parameters():\n",
        "  param.requires_grad = False\n",
        "\n",
        "# Update the preatrained ViT head\n",
        "embedding_dim = 768 # ViT_Base\n",
        "set_seeds()\n",
        "pretrained_vit.heads = nn.Sequential(\n",
        "    nn.LayerNorm(normalized_shape=embedding_dim),\n",
        "    nn.Linear(in_features=embedding_dim,\n",
        "              out_features=len(class_names))\n",
        ")\n",
        "\n",
        "# Print a summary\n",
        "summary(model=pretrained_vit,\n",
        "        input_size=(1, 3, 224, 224), # (batch_size, color_channels, height, width)\n",
        "        # col_names=[\"input_size\"], # uncomment for smaller output\n",
        "        col_names=[\"input_size\", \"output_size\", \"num_params\", \"trainable\"],\n",
        "        col_width=20,\n",
        "        row_settings=[\"var_names\"]\n",
        ")"
      ]
    },
    {
      "cell_type": "code",
      "execution_count": 29,
      "metadata": {
        "colab": {
          "base_uri": "https://localhost:8080/"
        },
        "id": "xaIoJ_BqGwVQ",
        "outputId": "76a3f1bd-151f-40a1-a32d-db3e7687afe7"
      },
      "outputs": [
        {
          "output_type": "stream",
          "name": "stdout",
          "text": [
            "[INFO] Did not find data/pizza_steak_sushi_20_percent directory, creating one...\n",
            "[INFO] Downloading pizza_steak_sushi_20_percent.zip from https://github.com/mrdbourke/pytorch-deep-learning/raw/main/data/pizza_steak_sushi_20_percent.zip...\n",
            "[INFO] Unzipping pizza_steak_sushi_20_percent.zip data...\n"
          ]
        }
      ],
      "source": [
        "# Get 20% of the data\n",
        "data_20_percent_path = download_data(source=\"https://github.com/mrdbourke/pytorch-deep-learning/raw/main/data/pizza_steak_sushi_20_percent.zip\",\n",
        "                                     destination=\"pizza_steak_sushi_20_percent\")\n",
        "\n",
        "# Setup train and test directories\n",
        "train_dir_20_percent = data_20_percent_path / \"train\"\n",
        "# test_dir_20_percent = data_20_percent_path / \"test\" # don't need 20% test data as the model in 07. PyTorch Experiment Tracking section 7.3 tests on the 10% dataset not the 20%\n",
        "\n",
        "# Preprocess the data\n",
        "vit_transforms = vit_weights.transforms() # get transforms from vit_weights\n",
        "train_dataloader_20_percent, test_dataloader, class_names = data_setup.create_dataloaders(train_dir=train_dir_20_percent,\n",
        "                                                                                           test_dir=test_dir, # use 10% data for testing\n",
        "                                                                                           transform=vit_transforms,\n",
        "                                                                                           batch_size=32)"
      ]
    },
    {
      "cell_type": "code",
      "execution_count": 30,
      "metadata": {
        "colab": {
          "base_uri": "https://localhost:8080/"
        },
        "id": "bIPvva97GzA_",
        "outputId": "03ff0922-3a13-4747-8cc3-d0de80570a5d"
      },
      "outputs": [
        {
          "output_type": "execute_result",
          "data": {
            "text/plain": [
              "(8, 15, 3)"
            ]
          },
          "metadata": {},
          "execution_count": 30
        }
      ],
      "source": [
        "len(train_dataloader), len(train_dataloader_20_percent), len(test_dataloader)"
      ]
    },
    {
      "cell_type": "code",
      "execution_count": 31,
      "metadata": {
        "colab": {
          "base_uri": "https://localhost:8080/",
          "height": 232,
          "referenced_widgets": [
            "5f87a43655c245e9ac1a233270ba897b",
            "f661f4e81cb24161836225fde032e181",
            "729e7e54f5564c948f3fe763ea2854a7",
            "67f51cfc915f4d9aa3c1c3ae9c0e3ea4",
            "eccc5806450b49a4931cc5c0130d10e5",
            "36f329c013204c6eae95607096b4ebc4",
            "c54914f93c1e47f9a2751c3a60946b60",
            "7734c67e278d4723ab90e146d5a89198",
            "d140e54ea5744027ba6b1d6196a25f56",
            "ee1dc860a1324340b077f258f1728d70",
            "1b2b727ca53447a09264f957d91106b1"
          ]
        },
        "id": "_9B-haa4G0bn",
        "outputId": "822c01fa-8fcf-442d-d034-61a5a5f7f398"
      },
      "outputs": [
        {
          "output_type": "display_data",
          "data": {
            "text/plain": [
              "  0%|          | 0/10 [00:00<?, ?it/s]"
            ],
            "application/vnd.jupyter.widget-view+json": {
              "version_major": 2,
              "version_minor": 0,
              "model_id": "5f87a43655c245e9ac1a233270ba897b"
            }
          },
          "metadata": {}
        },
        {
          "output_type": "stream",
          "name": "stdout",
          "text": [
            "Epoch: 1 | train_loss: 0.6443 | train_acc: 0.7521 | test_loss: 0.2314 | test_acc: 0.9072\n",
            "Epoch: 2 | train_loss: 0.2036 | train_acc: 0.9167 | test_loss: 0.2301 | test_acc: 0.9186\n",
            "Epoch: 3 | train_loss: 0.1399 | train_acc: 0.9583 | test_loss: 0.1990 | test_acc: 0.9384\n",
            "Epoch: 4 | train_loss: 0.1000 | train_acc: 0.9688 | test_loss: 0.1778 | test_acc: 0.9688\n",
            "Epoch: 5 | train_loss: 0.0881 | train_acc: 0.9771 | test_loss: 0.1803 | test_acc: 0.9384\n",
            "Epoch: 6 | train_loss: 0.0924 | train_acc: 0.9521 | test_loss: 0.1705 | test_acc: 0.9583\n",
            "Epoch: 7 | train_loss: 0.0655 | train_acc: 0.9812 | test_loss: 0.1785 | test_acc: 0.9583\n",
            "Epoch: 8 | train_loss: 0.0575 | train_acc: 0.9875 | test_loss: 0.2006 | test_acc: 0.9384\n",
            "Epoch: 9 | train_loss: 0.0657 | train_acc: 0.9938 | test_loss: 0.2046 | test_acc: 0.9384\n",
            "Epoch: 10 | train_loss: 0.0411 | train_acc: 0.9938 | test_loss: 0.1877 | test_acc: 0.9280\n"
          ]
        }
      ],
      "source": [
        "# Train a pretrained ViT feature extractor\n",
        "from going_modular.going_modular import engine\n",
        "\n",
        "optimizer = torch.optim.Adam(params=pretrained_vit.parameters(),\n",
        "                             lr=1e-3)\n",
        "loss_fn = torch.nn.CrossEntropyLoss()\n",
        "\n",
        "set_seeds()\n",
        "pretrained_vit_results = engine.train(model=pretrained_vit,\n",
        "                                      train_dataloader=train_dataloader_20_percent,\n",
        "                                      test_dataloader=test_dataloader,\n",
        "                                      optimizer=optimizer,\n",
        "                                      loss_fn=loss_fn,\n",
        "                                      epochs=10,\n",
        "                                      device=device)"
      ]
    },
    {
      "cell_type": "code",
      "execution_count": 32,
      "metadata": {
        "id": "ruU4HbpmG5Ey",
        "colab": {
          "base_uri": "https://localhost:8080/",
          "height": 592
        },
        "outputId": "860eb0d5-d213-4b8c-e7a7-0b217c24dcd5"
      },
      "outputs": [
        {
          "output_type": "display_data",
          "data": {
            "text/plain": [
              "<Figure size 1500x700 with 2 Axes>"
            ],
            "image/png": "[encoded data removed]"
          },
          "metadata": {}
        }
      ],
      "source": [
        "# Examine results\n",
        "from helper_functions import plot_loss_curves\n",
        "\n",
        "plot_loss_curves(pretrained_vit_results)"
      ]
    },
    {
      "cell_type": "markdown",
      "metadata": {
        "id": "PqGMGB7bHH8i"
      },
      "source": [
        "**4. Try repeating the steps from excercise 3 but this time use the \"ViT_B_16_Weights.IMAGENET1K_SWAG_E2E_V1\" pretrained weights from torchvision.models.vit_b_16().**"
      ]
    },
    {
      "cell_type": "code",
      "execution_count": 33,
      "metadata": {
        "id": "LmK7gwoUHJ0P",
        "colab": {
          "base_uri": "https://localhost:8080/"
        },
        "outputId": "2a6ed69b-2160-403c-ca8a-c6731ed3dd3b"
      },
      "outputs": [
        {
          "output_type": "stream",
          "name": "stderr",
          "text": [
            "Downloading: \"https://download.pytorch.org/models/vit_b_16_swag-9ac1b537.pth\" to /root/.cache/torch/hub/checkpoints/vit_b_16_swag-9ac1b537.pth\n",
            "100%|██████████| 331M/331M [00:07<00:00, 47.7MB/s]\n"
          ]
        },
        {
          "output_type": "execute_result",
          "data": {
            "text/plain": [
              "============================================================================================================================================\n",
              "Layer (type (var_name))                                      Input Shape          Output Shape         Param #              Trainable\n",
              "============================================================================================================================================\n",
              "VisionTransformer (VisionTransformer)                        [1, 3, 384, 384]     [1, 3]               768                  Partial\n",
              "├─Conv2d (conv_proj)                                         [1, 3, 384, 384]     [1, 768, 24, 24]     (590,592)            False\n",
              "├─Encoder (encoder)                                          [1, 577, 768]        [1, 577, 768]        443,136              False\n",
              "│    └─Dropout (dropout)                                     [1, 577, 768]        [1, 577, 768]        --                   --\n",
              "│    └─Sequential (layers)                                   [1, 577, 768]        [1, 577, 768]        --                   False\n",
              "│    │    └─EncoderBlock (encoder_layer_0)                   [1, 577, 768]        [1, 577, 768]        (7,087,872)          False\n",
              "│    │    └─EncoderBlock (encoder_layer_1)                   [1, 577, 768]        [1, 577, 768]        (7,087,872)          False\n",
              "│    │    └─EncoderBlock (encoder_layer_2)                   [1, 577, 768]        [1, 577, 768]        (7,087,872)          False\n",
              "│    │    └─EncoderBlock (encoder_layer_3)                   [1, 577, 768]        [1, 577, 768]        (7,087,872)          False\n",
              "│    │    └─EncoderBlock (encoder_layer_4)                   [1, 577, 768]        [1, 577, 768]        (7,087,872)          False\n",
              "│    │    └─EncoderBlock (encoder_layer_5)                   [1, 577, 768]        [1, 577, 768]        (7,087,872)          False\n",
              "│    │    └─EncoderBlock (encoder_layer_6)                   [1, 577, 768]        [1, 577, 768]        (7,087,872)          False\n",
              "│    │    └─EncoderBlock (encoder_layer_7)                   [1, 577, 768]        [1, 577, 768]        (7,087,872)          False\n",
              "│    │    └─EncoderBlock (encoder_layer_8)                   [1, 577, 768]        [1, 577, 768]        (7,087,872)          False\n",
              "│    │    └─EncoderBlock (encoder_layer_9)                   [1, 577, 768]        [1, 577, 768]        (7,087,872)          False\n",
              "│    │    └─EncoderBlock (encoder_layer_10)                  [1, 577, 768]        [1, 577, 768]        (7,087,872)          False\n",
              "│    │    └─EncoderBlock (encoder_layer_11)                  [1, 577, 768]        [1, 577, 768]        (7,087,872)          False\n",
              "│    └─LayerNorm (ln)                                        [1, 577, 768]        [1, 577, 768]        (1,536)              False\n",
              "├─Sequential (heads)                                         [1, 768]             [1, 3]               --                   True\n",
              "│    └─LayerNorm (0)                                         [1, 768]             [1, 768]             1,536                True\n",
              "│    └─Linear (1)                                            [1, 768]             [1, 3]               2,307                True\n",
              "============================================================================================================================================\n",
              "Total params: 86,094,339\n",
              "Trainable params: 3,843\n",
              "Non-trainable params: 86,090,496\n",
              "Total mult-adds (M): 396.89\n",
              "============================================================================================================================================\n",
              "Input size (MB): 1.77\n",
              "Forward/backward pass size (MB): 304.88\n",
              "Params size (MB): 229.21\n",
              "Estimated Total Size (MB): 535.86\n",
              "============================================================================================================================================"
            ]
          },
          "metadata": {},
          "execution_count": 33
        }
      ],
      "source": [
        "# Create ViT feature extractor model\n",
        "import torchvision\n",
        "\n",
        "# Download pretrained ViT weights and model\n",
        "vit_weights_swag = torchvision.models.ViT_B_16_Weights.IMAGENET1K_SWAG_E2E_V1 # get SWAG weights\n",
        "pretrained_vit_swag = torchvision.models.vit_b_16(weights=vit_weights_swag)\n",
        "\n",
        "# Freeze all layers in pretrained ViT model\n",
        "for param in pretrained_vit_swag.parameters():\n",
        "  param.requires_grad = False\n",
        "\n",
        "# Update the preatrained ViT head\n",
        "embedding_dim = 768 # ViT_Base\n",
        "set_seeds()\n",
        "pretrained_vit_swag.heads = nn.Sequential(\n",
        "    nn.LayerNorm(normalized_shape=embedding_dim),\n",
        "    nn.Linear(in_features=embedding_dim,\n",
        "              out_features=len(class_names))\n",
        ")\n",
        "\n",
        "# Print a summary\n",
        "summary(model=pretrained_vit_swag,\n",
        "        input_size=(1, 3, 384, 384), # (batch_size, color_channels, height, width)\n",
        "        # col_names=[\"input_size\"], # uncomment for smaller output\n",
        "        col_names=[\"input_size\", \"output_size\", \"num_params\", \"trainable\"],\n",
        "        col_width=20,\n",
        "        row_settings=[\"var_names\"]\n",
        ")"
      ]
    },
    {
      "cell_type": "code",
      "source": [
        "# Check out transforms for pretrained ViT with SWAG weights\n",
        "vit_transforms_swag = vit_weights_swag.transforms() # get transforms from vit_weights_swag\n",
        "vit_transforms_swag"
      ],
      "metadata": {
        "colab": {
          "base_uri": "https://localhost:8080/"
        },
        "id": "Qkwabe-fPV6F",
        "outputId": "64d8ce6d-aa04-48d1-f9c2-906ead70b237"
      },
      "execution_count": 34,
      "outputs": [
        {
          "output_type": "execute_result",
          "data": {
            "text/plain": [
              "ImageClassification(\n",
              "    crop_size=[384]\n",
              "    resize_size=[384]\n",
              "    mean=[0.485, 0.456, 0.406]\n",
              "    std=[0.229, 0.224, 0.225]\n",
              "    interpolation=InterpolationMode.BICUBIC\n",
              ")"
            ]
          },
          "metadata": {},
          "execution_count": 34
        }
      ]
    }
  ],
  "metadata": {
    "colab": {
      "provenance": [],
      "authorship_tag": "ABX9TyMMxjG2pc3kl4TOZKMq45Zx",
      "include_colab_link": true
    },
    "kernelspec": {
      "display_name": "Python 3",
      "name": "python3"
    },
    "language_info": {
      "name": "python"
    },
    "widgets": {
      "application/vnd.jupyter.widget-state+json": {
        "5f87a43655c245e9ac1a233270ba897b": {
          "model_module": "@jupyter-widgets/controls",
          "model_name": "HBoxModel",
          "model_module_version": "1.5.0",
          "state": {
            "_dom_classes": [],
            "_model_module": "@jupyter-widgets/controls",
            "_model_module_version": "1.5.0",
            "_model_name": "HBoxModel",
            "_view_count": null,
            "_view_module": "@jupyter-widgets/controls",
            "_view_module_version": "1.5.0",
            "_view_name": "HBoxView",
            "box_style": "",
            "children": [
              "IPY_MODEL_f661f4e81cb24161836225fde032e181",
              "IPY_MODEL_729e7e54f5564c948f3fe763ea2854a7",
              "IPY_MODEL_67f51cfc915f4d9aa3c1c3ae9c0e3ea4"
            ],
            "layout": "IPY_MODEL_eccc5806450b49a4931cc5c0130d10e5"
          }
        },
        "f661f4e81cb24161836225fde032e181": {
          "model_module": "@jupyter-widgets/controls",
          "model_name": "HTMLModel",
          "model_module_version": "1.5.0",
          "state": {
            "_dom_classes": [],
            "_model_module": "@jupyter-widgets/controls",
            "_model_module_version": "1.5.0",
            "_model_name": "HTMLModel",
            "_view_count": null,
            "_view_module": "@jupyter-widgets/controls",
            "_view_module_version": "1.5.0",
            "_view_name": "HTMLView",
            "description": "",
            "description_tooltip": null,
            "layout": "IPY_MODEL_36f329c013204c6eae95607096b4ebc4",
            "placeholder": "​",
            "style": "IPY_MODEL_c54914f93c1e47f9a2751c3a60946b60",
            "value": "100%"
          }
        },
        "729e7e54f5564c948f3fe763ea2854a7": {
          "model_module": "@jupyter-widgets/controls",
          "model_name": "FloatProgressModel",
          "model_module_version": "1.5.0",
          "state": {
            "_dom_classes": [],
            "_model_module": "@jupyter-widgets/controls",
            "_model_module_version": "1.5.0",
            "_model_name": "FloatProgressModel",
            "_view_count": null,
            "_view_module": "@jupyter-widgets/controls",
            "_view_module_version": "1.5.0",
            "_view_name": "ProgressView",
            "bar_style": "success",
            "description": "",
            "description_tooltip": null,
            "layout": "IPY_MODEL_7734c67e278d4723ab90e146d5a89198",
            "max": 10,
            "min": 0,
            "orientation": "horizontal",
            "style": "IPY_MODEL_d140e54ea5744027ba6b1d6196a25f56",
            "value": 10
          }
        },
        "67f51cfc915f4d9aa3c1c3ae9c0e3ea4": {
          "model_module": "@jupyter-widgets/controls",
          "model_name": "HTMLModel",
          "model_module_version": "1.5.0",
          "state": {
            "_dom_classes": [],
            "_model_module": "@jupyter-widgets/controls",
            "_model_module_version": "1.5.0",
            "_model_name": "HTMLModel",
            "_view_count": null,
            "_view_module": "@jupyter-widgets/controls",
            "_view_module_version": "1.5.0",
            "_view_name": "HTMLView",
            "description": "",
            "description_tooltip": null,
            "layout": "IPY_MODEL_ee1dc860a1324340b077f258f1728d70",
            "placeholder": "​",
            "style": "IPY_MODEL_1b2b727ca53447a09264f957d91106b1",
            "value": " 10/10 [1:10:41&lt;00:00, 421.06s/it]"
          }
        },
        "eccc5806450b49a4931cc5c0130d10e5": {
          "model_module": "@jupyter-widgets/base",
          "model_name": "LayoutModel",
          "model_module_version": "1.2.0",
          "state": {
            "_model_module": "@jupyter-widgets/base",
            "_model_module_version": "1.2.0",
            "_model_name": "LayoutModel",
            "_view_count": null,
            "_view_module": "@jupyter-widgets/base",
            "_view_module_version": "1.2.0",
            "_view_name": "LayoutView",
            "align_content": null,
            "align_items": null,
            "align_self": null,
            "border": null,
            "bottom": null,
            "display": null,
            "flex": null,
            "flex_flow": null,
            "grid_area": null,
            "grid_auto_columns": null,
            "grid_auto_flow": null,
            "grid_auto_rows": null,
            "grid_column": null,
            "grid_gap": null,
            "grid_row": null,
            "grid_template_areas": null,
            "grid_template_columns": null,
            "grid_template_rows": null,
            "height": null,
            "justify_content": null,
            "justify_items": null,
            "left": null,
            "margin": null,
            "max_height": null,
            "max_width": null,
            "min_height": null,
            "min_width": null,
            "object_fit": null,
            "object_position": null,
            "order": null,
            "overflow": null,
            "overflow_x": null,
            "overflow_y": null,
            "padding": null,
            "right": null,
            "top": null,
            "visibility": null,
            "width": null
          }
        },
        "36f329c013204c6eae95607096b4ebc4": {
          "model_module": "@jupyter-widgets/base",
          "model_name": "LayoutModel",
          "model_module_version": "1.2.0",
          "state": {
            "_model_module": "@jupyter-widgets/base",
            "_model_module_version": "1.2.0",
            "_model_name": "LayoutModel",
            "_view_count": null,
            "_view_module": "@jupyter-widgets/base",
            "_view_module_version": "1.2.0",
            "_view_name": "LayoutView",
            "align_content": null,
            "align_items": null,
            "align_self": null,
            "border": null,
            "bottom": null,
            "display": null,
            "flex": null,
            "flex_flow": null,
            "grid_area": null,
            "grid_auto_columns": null,
            "grid_auto_flow": null,
            "grid_auto_rows": null,
            "grid_column": null,
            "grid_gap": null,
            "grid_row": null,
            "grid_template_areas": null,
            "grid_template_columns": null,
            "grid_template_rows": null,
            "height": null,
            "justify_content": null,
            "justify_items": null,
            "left": null,
            "margin": null,
            "max_height": null,
            "max_width": null,
            "min_height": null,
            "min_width": null,
            "object_fit": null,
            "object_position": null,
            "order": null,
            "overflow": null,
            "overflow_x": null,
            "overflow_y": null,
            "padding": null,
            "right": null,
            "top": null,
            "visibility": null,
            "width": null
          }
        },
        "c54914f93c1e47f9a2751c3a60946b60": {
          "model_module": "@jupyter-widgets/controls",
          "model_name": "DescriptionStyleModel",
          "model_module_version": "1.5.0",
          "state": {
            "_model_module": "@jupyter-widgets/controls",
            "_model_module_version": "1.5.0",
            "_model_name": "DescriptionStyleModel",
            "_view_count": null,
            "_view_module": "@jupyter-widgets/base",
            "_view_module_version": "1.2.0",
            "_view_name": "StyleView",
            "description_width": ""
          }
        },
        "7734c67e278d4723ab90e146d5a89198": {
          "model_module": "@jupyter-widgets/base",
          "model_name": "LayoutModel",
          "model_module_version": "1.2.0",
          "state": {
            "_model_module": "@jupyter-widgets/base",
            "_model_module_version": "1.2.0",
            "_model_name": "LayoutModel",
            "_view_count": null,
            "_view_module": "@jupyter-widgets/base",
            "_view_module_version": "1.2.0",
            "_view_name": "LayoutView",
            "align_content": null,
            "align_items": null,
            "align_self": null,
            "border": null,
            "bottom": null,
            "display": null,
            "flex": null,
            "flex_flow": null,
            "grid_area": null,
            "grid_auto_columns": null,
            "grid_auto_flow": null,
            "grid_auto_rows": null,
            "grid_column": null,
            "grid_gap": null,
            "grid_row": null,
            "grid_template_areas": null,
            "grid_template_columns": null,
            "grid_template_rows": null,
            "height": null,
            "justify_content": null,
            "justify_items": null,
            "left": null,
            "margin": null,
            "max_height": null,
            "max_width": null,
            "min_height": null,
            "min_width": null,
            "object_fit": null,
            "object_position": null,
            "order": null,
            "overflow": null,
            "overflow_x": null,
            "overflow_y": null,
            "padding": null,
            "right": null,
            "top": null,
            "visibility": null,
            "width": null
          }
        },
        "d140e54ea5744027ba6b1d6196a25f56": {
          "model_module": "@jupyter-widgets/controls",
          "model_name": "ProgressStyleModel",
          "model_module_version": "1.5.0",
          "state": {
            "_model_module": "@jupyter-widgets/controls",
            "_model_module_version": "1.5.0",
            "_model_name": "ProgressStyleModel",
            "_view_count": null,
            "_view_module": "@jupyter-widgets/base",
            "_view_module_version": "1.2.0",
            "_view_name": "StyleView",
            "bar_color": null,
            "description_width": ""
          }
        },
        "ee1dc860a1324340b077f258f1728d70": {
          "model_module": "@jupyter-widgets/base",
          "model_name": "LayoutModel",
          "model_module_version": "1.2.0",
          "state": {
            "_model_module": "@jupyter-widgets/base",
            "_model_module_version": "1.2.0",
            "_model_name": "LayoutModel",
            "_view_count": null,
            "_view_module": "@jupyter-widgets/base",
            "_view_module_version": "1.2.0",
            "_view_name": "LayoutView",
            "align_content": null,
            "align_items": null,
            "align_self": null,
            "border": null,
            "bottom": null,
            "display": null,
            "flex": null,
            "flex_flow": null,
            "grid_area": null,
            "grid_auto_columns": null,
            "grid_auto_flow": null,
            "grid_auto_rows": null,
            "grid_column": null,
            "grid_gap": null,
            "grid_row": null,
            "grid_template_areas": null,
            "grid_template_columns": null,
            "grid_template_rows": null,
            "height": null,
            "justify_content": null,
            "justify_items": null,
            "left": null,
            "margin": null,
            "max_height": null,
            "max_width": null,
            "min_height": null,
            "min_width": null,
            "object_fit": null,
            "object_position": null,
            "order": null,
            "overflow": null,
            "overflow_x": null,
            "overflow_y": null,
            "padding": null,
            "right": null,
            "top": null,
            "visibility": null,
            "width": null
          }
        },
        "1b2b727ca53447a09264f957d91106b1": {
          "model_module": "@jupyter-widgets/controls",
          "model_name": "DescriptionStyleModel",
          "model_module_version": "1.5.0",
          "state": {
            "_model_module": "@jupyter-widgets/controls",
            "_model_module_version": "1.5.0",
            "_model_name": "DescriptionStyleModel",
            "_view_count": null,
            "_view_module": "@jupyter-widgets/base",
            "_view_module_version": "1.2.0",
            "_view_name": "StyleView",
            "description_width": ""
          }
        }
      }
    }
  },
  "nbformat": 4,
  "nbformat_minor": 0
}