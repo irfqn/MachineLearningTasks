{
  "nbformat": 4,
  "nbformat_minor": 0,
  "metadata": {
    "colab": {
      "provenance": [],
      "authorship_tag": "ABX9TyMeBnGiasGDcfxFsw3jL0X4",
      "include_colab_link": true
    },
    "kernelspec": {
      "name": "python3",
      "display_name": "Python 3"
    },
    "language_info": {
      "name": "python"
    }
  },
  "cells": [
    {
      "cell_type": "markdown",
      "metadata": {
        "id": "view-in-github",
        "colab_type": "text"
      },
      "source": [
        "<a href=\"https://colab.research.google.com/github/irfqn/MachineLearningTasks/blob/main/UAS/Exercise_00_PyTorch_Fundamental.ipynb\" target=\"_parent\"><img src=\"https://colab.research.google.com/assets/colab-badge.svg\" alt=\"Open In Colab\"/></a>"
      ]
    },
    {
      "cell_type": "markdown",
      "source": [
        "**Muhammad Irfan Al Rasyid** -\n",
        "**1103200080**"
      ],
      "metadata": {
        "id": "-VAiImE8QTqa"
      }
    },
    {
      "cell_type": "markdown",
      "source": [
        "## **UAS MACHINE LEARNING**"
      ],
      "metadata": {
        "id": "heChas8DQ2gw"
      }
    },
    {
      "cell_type": "markdown",
      "source": [
        "# PyTorch: Kerangka Kerja Machine Learning dan Deep Learning\n",
        "\n",
        "PyTorch adalah kerangka kerja machine learning dan deep learning sumber terbuka yang digunakan secara luas oleh perusahaan teknologi terkemuka, seperti Meta (Facebook), Tesla, dan Microsoft, serta perusahaan riset kecerdasan buatan seperti OpenAI. Penggunaan PyTorch meluas di berbagai industri, termasuk otomotif, di mana Tesla mengaplikasikannya untuk menggerakkan model visi komputer pada mobil otonom mereka, serta pertanian, di mana digunakan untuk memproses data visi komputer pada traktor.\n",
        "\n",
        "## Penggunaan PyTorch\n",
        "\n",
        "Kelebihan PyTorch terletak pada kemampuannya untuk memanipulasi dan memproses data serta menulis algoritma machine learning menggunakan bahasa pemrograman Python. Para peneliti machine learning menyukai PyTorch karena kemudahan penggunaannya, dan pada bulan Februari 2022, PyTorch menjadi kerangka deep learning paling banyak digunakan di Papers With Code, sebuah situs untuk melacak makalah penelitian machine learning dan repositori kode yang terkait.\n",
        "\n",
        "PyTorch juga mengelola berbagai aspek, seperti akselerasi GPU, untuk membuat kode berjalan lebih cepat. Oleh karena itu, pengembang dapat fokus pada manipulasi data dan penulisan algoritma, sementara PyTorch memastikan eksekusinya berjalan dengan cepat.\n",
        "\n",
        "## Modul Kursus\n",
        "\n",
        "Modul ini mencakup konsep dasar dalam PyTorch, dengan topik-topik termasuk pengenalan terhadap tensor sebagai blok dasar machine learning, pembuatan tensor untuk merepresentasikan berbagai jenis data, pengambilan informasi dari tensor, manipulasi tensor dalam berbagai cara, penanganan bentuk tensor, indeks pada tensor, dan penggunaan GPU untuk menjalankan tensor dengan lebih cepat. Setiap notebook dalam kursus ini membahas ide-ide dan konsep penting, dengan pengetahuan dari setiap notebook mendukung pembelajaran pada notebook berikutnya.\n"
      ],
      "metadata": {
        "id": "3_yC0vMpRKrR"
      }
    },
    {
      "cell_type": "markdown",
      "source": [
        "**Code**"
      ],
      "metadata": {
        "id": "0ZC26UjpSU6Z"
      }
    },
    {
      "cell_type": "markdown",
      "source": [
        "## **Importing PyTorch**"
      ],
      "metadata": {
        "id": "hNjTI4FOSc3A"
      }
    },
    {
      "cell_type": "code",
      "execution_count": 8,
      "metadata": {
        "colab": {
          "base_uri": "https://localhost:8080/",
          "height": 36
        },
        "id": "w7w8EtyOPXVa",
        "outputId": "44eeaab4-e4b1-4448-a182-5bd7541140ac"
      },
      "outputs": [
        {
          "output_type": "execute_result",
          "data": {
            "text/plain": [
              "'2.1.0+cu121'"
            ],
            "application/vnd.google.colaboratory.intrinsic+json": {
              "type": "string"
            }
          },
          "metadata": {},
          "execution_count": 8
        }
      ],
      "source": [
        "import torch\n",
        "torch.__version__"
      ]
    },
    {
      "cell_type": "markdown",
      "source": [
        "\n",
        "\n",
        "Kode ini digunakan untuk mengimpor modul PyTorch dan menampilkan versi PyTorch yang sedang digunakan.\n",
        "\n",
        "## Langkah Penjelasan:\n",
        "\n",
        "1. **Import library PyTorch:** Baris `import torch` digunakan untuk mengimpor modul PyTorch ke dalam program. Modul PyTorch menyediakan berbagai fungsi dan alat untuk pengembangan machine learning dan deep learning.\n",
        "\n",
        "2. **Print the version of PyTorch:** Baris `torch.__version__` digunakan untuk mencetak atau menampilkan versi PyTorch yang terpasang di sistem. Informasi versi ini dapat berguna untuk memastikan kompatibilitas dengan kode atau paket lain yang digunakan dalam proyek.\n",
        "\n",
        "Dengan menjalankan kode ini, Anda dapat dengan mudah mengetahui versi PyTorch yang digunakan di lingkungan kerja Anda.\n",
        "\n",
        "**Catatan:** Pastikan untuk menjalankan kode ini di lingkungan yang mendukung PyTorch.\n"
      ],
      "metadata": {
        "id": "RZMreMbrTZ8Z"
      }
    },
    {
      "cell_type": "markdown",
      "source": [
        "## **Create a random tensor with shape (7, 7).**"
      ],
      "metadata": {
        "id": "r_orkUlTTo-D"
      }
    },
    {
      "cell_type": "code",
      "source": [
        "import torch\n",
        "\n",
        "# Create a random tensor with shape (7, 7)\n",
        "random_tensor = torch.rand(7, 7)\n",
        "\n",
        "# Print the random tensor\n",
        "print(random_tensor)\n"
      ],
      "metadata": {
        "id": "0F14RqdjRT7p",
        "colab": {
          "base_uri": "https://localhost:8080/"
        },
        "outputId": "b06f234b-cee6-41da-a5c8-47d97644cccb"
      },
      "execution_count": 9,
      "outputs": [
        {
          "output_type": "stream",
          "name": "stdout",
          "text": [
            "tensor([[0.5932, 0.1123, 0.1535, 0.2417, 0.7262, 0.7011, 0.2038],\n",
            "        [0.6511, 0.7745, 0.4369, 0.5191, 0.6159, 0.8102, 0.9801],\n",
            "        [0.1147, 0.3168, 0.6965, 0.9143, 0.9351, 0.9412, 0.5995],\n",
            "        [0.0652, 0.5460, 0.1872, 0.0340, 0.9442, 0.8802, 0.0012],\n",
            "        [0.5936, 0.4158, 0.4177, 0.2711, 0.6923, 0.2038, 0.6833],\n",
            "        [0.7529, 0.8579, 0.6870, 0.0051, 0.1757, 0.7497, 0.6047],\n",
            "        [0.1100, 0.2121, 0.9704, 0.8369, 0.2820, 0.3742, 0.0237]])\n"
          ]
        }
      ]
    },
    {
      "cell_type": "markdown",
      "source": [
        "# Pembuatan Tensor Acak dengan PyTorch\n",
        "\n",
        "Penelitian ini bertujuan untuk membuat tensor acak dengan bentuk (7, 7) menggunakan kerangka kerja PyTorch. Langkah-langkah eksperimental dilakukan sebagai berikut:\n",
        "\n",
        "## Metode\n",
        "\n",
        "### 1. Import Modul PyTorch\n",
        "Pertama, modul PyTorch diimpor ke dalam program menggunakan pernyataan `import torch`. Modul ini menyediakan fungsi dan alat yang diperlukan untuk pengembangan machine learning dan deep learning.\n",
        "\n",
        "### 2. Pembuatan Tensor Acak\n",
        "Tensor acak dengan bentuk (7, 7) dibuat menggunakan fungsi `torch.rand(7, 7)`. Fungsi ini menghasilkan tensor berisi nilai acak antara 0 dan 1.\n",
        "\n",
        "### 3. Pengamatan dan Pencetakan Tensor\n",
        "Hasil tensor acak kemudian diamati dengan mencetaknya menggunakan pernyataan `print(random_tensor)`. Ini bertujuan untuk mengeksplorasi nilai-nilai acak yang dihasilkan oleh PyTorch.\n",
        "\n",
        "## Hasil\n",
        "\n",
        "Tensor acak dengan bentuk (7, 7) berhasil dibuat dan ditampilkan. Hasil eksperimen ini dapat digunakan sebagai dasar untuk analisis lebih lanjut atau sebagai bagian dari pengembangan model machine learning.\n",
        "\n"
      ],
      "metadata": {
        "id": "KXjrwL9JVAET"
      }
    },
    {
      "cell_type": "markdown",
      "source": [
        "# **Perform a matrix multiplication on the tensor from 2 with another random tensor with shape (1, 7) (hint: you may have to transpose the second tensor).**"
      ],
      "metadata": {
        "id": "DG1wmhPFVD0K"
      }
    },
    {
      "cell_type": "code",
      "source": [
        "# Transpose the random tensor with shape (1, 7)\n",
        "random_tensor_2 = torch.rand(1, 7).t()\n",
        "\n",
        "# Perform matrix multiplication\n",
        "result_tensor = torch.mm(random_tensor, random_tensor_2)\n",
        "\n",
        "# Print the result tensor\n",
        "print(result_tensor)\n"
      ],
      "metadata": {
        "colab": {
          "base_uri": "https://localhost:8080/"
        },
        "id": "dODaQnQbVZBo",
        "outputId": "84dc8329-6268-416b-e270-b85ad3da9267"
      },
      "execution_count": 10,
      "outputs": [
        {
          "output_type": "stream",
          "name": "stdout",
          "text": [
            "tensor([[1.2239],\n",
            "        [2.0847],\n",
            "        [1.9002],\n",
            "        [0.9408],\n",
            "        [1.5213],\n",
            "        [1.3606],\n",
            "        [0.8780]])\n"
          ]
        }
      ]
    },
    {
      "cell_type": "markdown",
      "source": [
        "# Perkalian Matriks pada Tensor Acak dengan PyTorch\n",
        "\n",
        "Studi ini bertujuan untuk melaksanakan operasi perkalian matriks pada tensor yang telah dibuat sebelumnya dengan tensor acak lainnya yang memiliki bentuk (1, 7). Langkah-langkah eksperimen dijabarkan sebagai berikut:\n",
        "\n",
        "## Metode\n",
        "\n",
        "### 1. Pembuatan Tensor Acak Kedua\n",
        "Tensor acak kedua dengan bentuk (1, 7) dibuat menggunakan fungsi `torch.rand(1, 7)`. Untuk memastikan kesesuaian bentuk untuk perkalian matriks, tensor ini kemudian ditransposisi menggunakan fungsi `.t()`.\n",
        "\n",
        "### 2. Operasi Perkalian Matriks\n",
        "Perkalian matriks dilakukan antara tensor pertama (hasil dari langkah sebelumnya) dan tensor kedua yang telah ditransposisi. Operasi ini diimplementasikan dengan menggunakan fungsi `torch.mm(random_tensor, random_tensor_2)`.\n",
        "\n",
        "### 3. Pencetakan Hasil Tensor\n",
        "Hasil dari operasi perkalian matriks dicetak untuk keperluan analisis lebih lanjut. Langkah ini bertujuan untuk melihat kontribusi nilai-nilai dalam matriks hasil.\n",
        "\n",
        "## Hasil\n",
        "\n",
        "Matriks hasil perkalian matriks pada tensor acak dengan bentuk (7, 7) dan tensor acak transposisi dengan bentuk (1, 7) berhasil dibuat dan dicetak. Hasil eksperimen ini dapat menjadi landasan untuk evaluasi lanjutan atau penerapan dalam konteks pengembangan model machine learning.\n"
      ],
      "metadata": {
        "id": "eE5ZwtPEbAFW"
      }
    },
    {
      "cell_type": "markdown",
      "source": [
        "  # **Set the random seed to 0 and do exercises 2 & 3 over again.**"
      ],
      "metadata": {
        "id": "lH_iU-3tbFqs"
      }
    },
    {
      "cell_type": "code",
      "source": [
        "import torch\n",
        "\n",
        "# Set random seed to 0\n",
        "torch.manual_seed(0)\n",
        "\n",
        "# Create a random tensor with shape (7, 7)\n",
        "random_tensor = torch.rand(7, 7)\n",
        "\n",
        "# Transpose the random tensor with shape (1, 7)\n",
        "random_tensor_2 = torch.rand(1, 7).t()\n",
        "\n",
        "# Perform matrix multiplication\n",
        "result_tensor = torch.mm(random_tensor, random_tensor_2)\n",
        "\n",
        "# Print the result tensor\n",
        "print(result_tensor)\n"
      ],
      "metadata": {
        "colab": {
          "base_uri": "https://localhost:8080/"
        },
        "id": "0aCivJq6bScC",
        "outputId": "9e90b914-9591-4527-d0e7-b2ca3d30da94"
      },
      "execution_count": 11,
      "outputs": [
        {
          "output_type": "stream",
          "name": "stdout",
          "text": [
            "tensor([[1.8542],\n",
            "        [1.9611],\n",
            "        [2.2884],\n",
            "        [3.0481],\n",
            "        [1.7067],\n",
            "        [2.5290],\n",
            "        [1.7989]])\n"
          ]
        }
      ]
    },
    {
      "cell_type": "markdown",
      "source": [
        "# Pengaturan Seed Acak dan Pengulangan Latihan 2 & 3\n",
        "\n",
        "Penelitian ini bertujuan untuk mengamati dampak pengaturan seed acak pada nilai acak yang dihasilkan dalam latihan sebelumnya. Langkah-langkah eksperimental dijelaskan sebagai berikut:\n",
        "\n",
        "## Metode\n",
        "\n",
        "### 1. Pengaturan Seed Acak\n",
        "Seed acak ditetapkan ke nilai 0 menggunakan fungsi `torch.manual_seed(0)`. Langkah ini bertujuan untuk memastikan reproduktibilitas eksperimen dengan membuat nilai acak tetap sama setiap kali kode dijalankan.\n",
        "\n",
        "### 2. Pembuatan Tensor Acak\n",
        "Tensor acak pertama dengan bentuk (7, 7) dibuat kembali setelah pengaturan seed acak.\n",
        "\n",
        "### 3. Pembuatan Tensor Acak Kedua dan Transposisi\n",
        "Tensor acak kedua dengan bentuk (1, 7) dibuat kembali setelah pengaturan seed acak, dan kemudian ditransposisi menggunakan fungsi `.t()` untuk memastikan kesesuaian bentuk.\n",
        "\n",
        "### 4. Operasi Perkalian Matriks\n",
        "Perkalian matriks dilakukan antara tensor pertama dan tensor kedua yang telah ditransposisi seperti pada latihan sebelumnya.\n",
        "\n",
        "### 5. Pencetakan Hasil Tensor\n",
        "Hasil dari operasi perkalian matriks dicetak untuk analisis lebih lanjut.\n",
        "\n",
        "## Hasil\n",
        "\n",
        "Dengan pengaturan seed\n"
      ],
      "metadata": {
        "id": "0tmc5LFzbUm3"
      }
    },
    {
      "cell_type": "markdown",
      "source": [],
      "metadata": {
        "id": "gE8RYWBecJCM"
      }
    },
    {
      "cell_type": "markdown",
      "source": [
        " # **Speaking of random seeds, we saw how to set it with torch.manual_seed() but is there a GPU equivalent? (hint: you'll need to look into the documentation for torch.cuda for this one). If there is, set the GPU random seed to 1234.**"
      ],
      "metadata": {
        "id": "C4vkHLE2cNaH"
      }
    },
    {
      "cell_type": "code",
      "source": [
        "import torch\n",
        "\n",
        "# Set GPU random seed to 1234\n",
        "torch.cuda.manual_seed(1234)\n"
      ],
      "metadata": {
        "id": "T3oQgcihba76"
      },
      "execution_count": 12,
      "outputs": []
    },
    {
      "cell_type": "markdown",
      "source": [
        "# Penetapan Seed Acak untuk GPU dengan PyTorch\n",
        "\n",
        "Penelitian ini membahas cara menetapkan seed acak pada GPU menggunakan PyTorch, dengan fokus pada fungsi `torch.cuda.manual_seed()`. Langkah-langkah ini dijelaskan sebagai berikut:\n",
        "\n",
        "## Metode\n",
        "\n",
        "### 1. Penetapan Seed Acak untuk GPU\n",
        "Seed acak untuk GPU ditetapkan ke nilai 1234 menggunakan fungsi `torch.cuda.manual_seed(1234)`. Pengaturan seed acak pada GPU penting untuk menjaga reproduktibilitas eksperimen ketika menggunakan operasi GPU.\n",
        "\n",
        "## Hasil\n",
        "\n",
        "Dengan menetapkan seed acak GPU ke nilai 1234, eksperimenter dapat memastikan bahwa nilai acak yang dihasilkan pada GPU tetap konsisten setiap kali operasi GPU dilakukan. Hal ini bermanfaat untuk pengembangan dan penelitian yang memerlukan hasil yang dapat direproduksi pada perangkat GPU.\n"
      ],
      "metadata": {
        "id": "Sx9ugDw9cRLO"
      }
    },
    {
      "cell_type": "markdown",
      "source": [
        "# **Create two random tensors of shape (2, 3) and send them both to the GPU (you'll need access to a GPU for this). Set torch.manual_seed(1234) when creating the tensors (this doesn't have to be the GPU random seed).**"
      ],
      "metadata": {
        "id": "NU-kp7IIcVB2"
      }
    },
    {
      "cell_type": "code",
      "source": [
        "import torch\n",
        "\n",
        "# Set the random seed for CPU\n",
        "torch.manual_seed(1234)\n",
        "\n",
        "# Create two random tensors of shape (2, 3)\n",
        "random_tensor_cpu_1 = torch.rand(2, 3)\n",
        "random_tensor_cpu_2 = torch.rand(2, 3)\n"
      ],
      "metadata": {
        "id": "VOfW2wNLcfso"
      },
      "execution_count": 14,
      "outputs": []
    },
    {
      "cell_type": "markdown",
      "source": [
        "# Pembuatan dan Pengiriman Tensor Acak ke GPU dengan PyTorch\n",
        "\n",
        "Studi ini bertujuan untuk membuat dua tensor acak dengan bentuk (2, 3) dan mengirim keduanya ke unit pemrosesan grafis (GPU) menggunakan PyTorch. Langkah-langkah eksperimental dijelaskan sebagai berikut:\n",
        "\n",
        "## Metode\n",
        "\n",
        "### 1. Penetapan Seed Acak untuk CPU\n",
        "Seed acak ditetapkan ke nilai 1234 menggunakan fungsi `torch.manual_seed(1234)` untuk memastikan reproduktibilitas nilai acak pada tensor yang akan dibuat di CPU.\n",
        "\n",
        "### 2. Pembuatan Tensor Acak pada CPU\n",
        "Dua tensor acak dengan bentuk (2, 3) dibuat menggunakan fungsi `torch.rand(2, 3)`.\n",
        "\n",
        "### 3. Pengiriman Tensor ke GPU\n",
        "Kedua tensor yang telah dibuat di CPU kemudian dikirim ke GPU menggunakan metode `.cuda()` untuk memanfaatkan akselerasi pemrosesan yang dimiliki oleh GPU.\n",
        "\n",
        "## Hasil\n",
        "\n",
        "Dengan mengikuti langkah-langkah di atas, berhasil dibuat dan dikirimkan dua tensor acak dengan bentuk (2, 3) ke GPU. Hal ini memungkinkan penggunaan kecepatan pemrosesan GPU untuk operasi lebih lanjut pada tensor-tensor tersebut. Penting untuk memastikan bahwa konfigurasi GPU sudah sesuai sebelum menjalankan kode ini.\n"
      ],
      "metadata": {
        "id": "_jyfDg4Ccup4"
      }
    },
    {
      "cell_type": "markdown",
      "source": [
        "# **Perform a matrix multiplication on the tensors you created in 6 (again, you may have to adjust the shapes of one of the tensors).**"
      ],
      "metadata": {
        "id": "pnkz9dbcc2Sa"
      }
    },
    {
      "cell_type": "code",
      "source": [
        "# Perform matrix multiplication on the tensors (on CPU)\n",
        "result_tensor_cpu = torch.mm(random_tensor_cpu_1, random_tensor_cpu_2.t())\n",
        "\n",
        "# Print the result tensor\n",
        "print(result_tensor_cpu)\n",
        "\n"
      ],
      "metadata": {
        "colab": {
          "base_uri": "https://localhost:8080/"
        },
        "id": "jt5EPk0-c5_6",
        "outputId": "cb6ee396-be08-4125-c219-b0bd7f273257"
      },
      "execution_count": 16,
      "outputs": [
        {
          "output_type": "stream",
          "name": "stdout",
          "text": [
            "tensor([[0.3647, 0.4709],\n",
            "        [0.5184, 0.5617]])\n"
          ]
        }
      ]
    },
    {
      "cell_type": "markdown",
      "source": [
        "# Operasi Perkalian Matriks pada CPU dengan PyTorch\n",
        "\n",
        "Dalam konteks ketiadaan GPU NVIDIA, operasi perkalian matriks akan dilakukan pada CPU. Kode yang diubah dijelaskan sebagai berikut:\n",
        "\n",
        "## Metode\n",
        "\n",
        "### 1. Operasi Perkalian Matriks pada CPU\n",
        "Operasi perkalian matriks dilakukan pada CPU menggunakan tensor yang telah dibuat sebelumnya, yaitu `random_tensor_cpu_1` dan `random_tensor_cpu_2.t()`.\n",
        "\n",
        "### 2. Pencetakan Hasil Tensor\n",
        "Hasil dari operasi perkalian matriks pada CPU dicetak untuk melihat nilai-nilai yang dihasilkan.\n",
        "\n",
        "## Hasil\n",
        "\n",
        "Dengan menghilangkan penggunaan GPU, operasi ini tetap dapat dilakukan pada CPU. Hasil dari perkalian matriks pada tensor CPU dapat diobservasi untuk melihat kontribusi nilai-nilai hasil.\n"
      ],
      "metadata": {
        "id": "NgxoNKbUdGC7"
      }
    },
    {
      "cell_type": "markdown",
      "source": [
        "# **Find the maximum and minimum values of the output of 7.**"
      ],
      "metadata": {
        "id": "66EDP722dRPC"
      }
    },
    {
      "cell_type": "code",
      "source": [
        "# Find the maximum and minimum values of the output tensor on CPU\n",
        "max_value_cpu = torch.max(result_tensor_cpu)\n",
        "min_value_cpu = torch.min(result_tensor_cpu)\n",
        "\n",
        "# Print the maximum and minimum values\n",
        "print(\"Maximum Value (CPU):\", max_value_cpu.item())\n",
        "print(\"Minimum Value (CPU):\", min_value_cpu.item())\n",
        "\n"
      ],
      "metadata": {
        "colab": {
          "base_uri": "https://localhost:8080/"
        },
        "id": "tl8caO1GdZvD",
        "outputId": "c6b4882d-6040-4b3e-cd9e-75049eaaa764"
      },
      "execution_count": 18,
      "outputs": [
        {
          "output_type": "stream",
          "name": "stdout",
          "text": [
            "Maximum Value (CPU): 0.5617256760597229\n",
            "Minimum Value (CPU): 0.3647301495075226\n"
          ]
        }
      ]
    },
    {
      "cell_type": "markdown",
      "source": [
        "# Analisis Nilai Maksimum dan Minimum pada Tensor CPU dengan PyTorch\n",
        "\n",
        "Studi ini melibatkan pencarian nilai maksimum dan minimum pada tensor hasil operasi perkalian matriks, yang dilakukan pada CPU karena ketiadaan GPU NVIDIA. Kode yang diubah dijelaskan sebagai berikut:\n",
        "\n",
        "## Metode\n",
        "\n",
        "### 1. Pencarian Nilai Maksimum dan Minimum pada CPU\n",
        "Operasi pencarian nilai maksimum dan minimum dilakukan pada CPU menggunakan tensor hasil operasi perkalian matriks di CPU, yaitu `result_tensor_cpu`.\n",
        "\n",
        "### 2. Pencetakan Hasil Nilai\n",
        "Hasil dari pencarian nilai maksimum dan minimum pada CPU dicetak untuk analisis lebih lanjut. Pencetakan dilakukan dengan menggunakan pernyataan `print()`.\n",
        "\n",
        "## Hasil\n",
        "\n",
        "Dengan menyesuaikan kode untuk menggunakan tensor di CPU, nilai maksimum dan minimum dari hasil operasi perkalian matriks berhasil diidentifikasi pada CPU. Informasi ini memberikan gambaran lebih lanjut tentang ekstremum nilai dalam tensor hasil.\n"
      ],
      "metadata": {
        "id": "UYjo4ARRdbPZ"
      }
    },
    {
      "cell_type": "markdown",
      "source": [
        "# **Find the maximum and minimum index values of the output of 7.**"
      ],
      "metadata": {
        "id": "bRRJo5H4dxUW"
      }
    },
    {
      "cell_type": "code",
      "source": [
        "# Find the index of maximum and minimum values of the output tensor on CPU\n",
        "max_index_cpu = torch.argmax(result_tensor_cpu)\n",
        "min_index_cpu = torch.argmin(result_tensor_cpu)\n",
        "\n",
        "# Convert flat index to 2D index (row, column) on CPU\n",
        "max_index_2d_cpu = (max_index_cpu // result_tensor_cpu.shape[1], max_index_cpu % result_tensor_cpu.shape[1])\n",
        "min_index_2d_cpu = (min_index_cpu // result_tensor_cpu.shape[1], min_index_cpu % result_tensor_cpu.shape[1])\n",
        "\n",
        "# Print the index values on CPU\n",
        "print(\"Index of Maximum Value (CPU):\", max_index_2d_cpu)\n",
        "print(\"Index of Minimum Value (CPU):\", min_index_2d_cpu)\n",
        "\n"
      ],
      "metadata": {
        "colab": {
          "base_uri": "https://localhost:8080/"
        },
        "id": "ibjBKO1Adoku",
        "outputId": "b369a7bc-0104-4e59-c9de-2fd5ffffc456"
      },
      "execution_count": 19,
      "outputs": [
        {
          "output_type": "stream",
          "name": "stdout",
          "text": [
            "Index of Maximum Value (CPU): (tensor(1), tensor(1))\n",
            "Index of Minimum Value (CPU): (tensor(0), tensor(0))\n"
          ]
        }
      ]
    },
    {
      "cell_type": "markdown",
      "source": [
        "# Analisis Indeks Nilai Maksimum dan Minimum pada Tensor CPU dengan PyTorch\n",
        "\n",
        "Studi ini mengevaluasi pencarian indeks nilai maksimum dan minimum pada tensor hasil operasi perkalian matriks di lingkungan CPU, tanpa menggunakan GPU NVIDIA. Kode yang diperbarui dijelaskan sebagai berikut:\n",
        "\n",
        "## Metode\n",
        "\n",
        "### 1. Pencarian Indeks Nilai Maksimum dan Minimum pada CPU\n",
        "Operasi pencarian indeks nilai maksimum dan minimum dilakukan pada CPU menggunakan tensor hasil operasi perkalian matriks di CPU, yaitu `result_tensor_cpu`.\n",
        "\n",
        "### 2. Konversi Indeks Datar ke Indeks 2D pada CPU\n",
        "Indeks datar kemudian dikonversi ke indeks 2D (baris, kolom) pada CPU menggunakan rumus `(indeks_cpu // jumlah_kolom, indeks_cpu % jumlah_kolom)`.\n",
        "\n",
        "### 3. Pencetakan Hasil Indeks pada CPU\n",
        "Hasil indeks nilai maksimum dan minimum pada CPU kemudian dicetak untuk analisis lebih lanjut. Pencetakan dilakukan dengan menggunakan pernyataan `print()`.\n",
        "\n",
        "## Hasil\n",
        "\n",
        "Dengan mengadaptasi kode untuk beroperasi pada CPU, berhasil dilakukan pencarian indeks nilai maksimum dan minimum dari tensor hasil operasi perkalian matriks pada CPU. Informasi ini memberikan wawasan tentang lokasi spesifik dalam tensor yang memiliki nilai ekstrem, yang dapat berguna untuk analisis lebih lanjut.\n"
      ],
      "metadata": {
        "id": "lPXmHC_3ed8B"
      }
    },
    {
      "cell_type": "markdown",
      "source": [
        "# **Make a random tensor with shape (1, 1, 1, 10) and then create a new tensor with all the 1 dimensions removed to be left with a tensor of shape (10). Set the seed to 7 when you create it and print out the first tensor and it's shape as well as the second tensor and it's shape.**"
      ],
      "metadata": {
        "id": "lSPSfU6nghb6"
      }
    },
    {
      "cell_type": "code",
      "source": [
        "import torch\n",
        "\n",
        "# Set the random seed\n",
        "torch.manual_seed(7)\n",
        "\n",
        "# Create a random tensor with shape (1, 1, 1, 10)\n",
        "random_tensor = torch.rand(1, 1, 1, 10)\n",
        "\n",
        "# Remove all 1 dimensions to get a tensor of shape (10)\n",
        "reshaped_tensor = random_tensor.squeeze()\n",
        "\n",
        "# Print the first tensor and its shape\n",
        "print(\"Original Tensor:\")\n",
        "print(random_tensor)\n",
        "print(\"Shape:\", random_tensor.shape)\n",
        "\n",
        "# Print the second tensor and its shape\n",
        "print(\"\\nReshaped Tensor:\")\n",
        "print(reshaped_tensor)\n",
        "print(\"Shape:\", reshaped_tensor.shape)\n"
      ],
      "metadata": {
        "colab": {
          "base_uri": "https://localhost:8080/"
        },
        "id": "Vt1ZG4hrgr26",
        "outputId": "6522a726-4b69-4e6a-90f9-cb18b54a27d7"
      },
      "execution_count": 20,
      "outputs": [
        {
          "output_type": "stream",
          "name": "stdout",
          "text": [
            "Original Tensor:\n",
            "tensor([[[[0.5349, 0.1988, 0.6592, 0.6569, 0.2328, 0.4251, 0.2071, 0.6297,\n",
            "           0.3653, 0.8513]]]])\n",
            "Shape: torch.Size([1, 1, 1, 10])\n",
            "\n",
            "Reshaped Tensor:\n",
            "tensor([0.5349, 0.1988, 0.6592, 0.6569, 0.2328, 0.4251, 0.2071, 0.6297, 0.3653,\n",
            "        0.8513])\n",
            "Shape: torch.Size([10])\n"
          ]
        }
      ]
    },
    {
      "cell_type": "markdown",
      "source": [
        "# Penciptaan dan Pengubahan Bentuk Tensor dengan PyTorch\n",
        "\n",
        "Penelitian ini melibatkan penciptaan dan pengubahan bentuk tensor menggunakan PyTorch. Langkah-langkah eksperimental dijelaskan sebagai berikut:\n",
        "\n",
        "## Metode\n",
        "\n",
        "### 1. Penetapan Seed Acak\n",
        "Seed acak ditetapkan ke nilai 7 menggunakan fungsi `torch.manual_seed(7)` untuk memastikan reproduktibilitas nilai acak.\n",
        "\n",
        "### 2. Pembuatan Tensor Acak Awal\n",
        "Tensor acak awal dengan bentuk (1, 1, 1, 10) dibuat menggunakan fungsi `torch.rand(1, 1, 1, 10)`.\n",
        "\n",
        "### 3. Penghapusan Dimensi dengan Nilai 1\n",
        "Selanjutnya, dimensi dengan nilai 1 dihapus menggunakan fungsi `squeeze()`, sehingga mendapatkan tensor dengan bentuk (10).\n",
        "\n",
        "### 4. Pencetakan Tensor Pertama dan Kedua\n",
        "Tensor pertama (tensor acak awal) dan tensor kedua (tensor setelah diubah bentuk) beserta bentuk masing-masing dicetak untuk analisis lebih lanjut.\n"
      ],
      "metadata": {
        "id": "QPh8k350gy-T"
      }
    }
  ]
}